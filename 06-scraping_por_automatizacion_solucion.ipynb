{
  "cells": [
    {
      "cell_type": "markdown",
      "metadata": {
        "id": "tXugTXVog58V"
      },
      "source": [
        "<a href=\"https://colab.research.google.com/github/institutohumai/cursos-python/blob/auto/Scraping/3_Selenium_y_xpath/scraping_por_automatizacion.ipynb\" target=\"_parent\"><img src=\"https://colab.research.google.com/assets/colab-badge.svg\" alt=\"Open In Colab\" data-canonical-src=\"https://colab.research.google.com/assets/colab-badge.svg\"></a>"
      ]
    },
    {
      "cell_type": "markdown",
      "metadata": {
        "id": "sMvL5m3GVuK-"
      },
      "source": [
        "# Scraping por Automatización con Selenium"
      ]
    },
    {
      "cell_type": "markdown",
      "metadata": {
        "id": "YhLG1LMEVhr9"
      },
      "source": [
        "## **XPath (XML Path Language)**\n",
        "\n",
        "Un selector muy utilizado es el [**Xpath**](https://es.wikipedia.org/wiki/XPath), basado en un lenguaje diseñado para localizar elementos en un archivo XML o HTML.\n",
        "\n",
        "Es una manera de recorrer un árbol como por ejemplo el DOM (*document object model*).\n",
        "\n",
        "Por ejempllo si vamos a la [página del Instituto Humai](https://ihum.ai/) y presionamos `f12` veremos esto:\n",
        "\n",
        "<img src=\"https://i.ibb.co/cNM04jP/copy-xpath.png\" alt=\"copy-xpath\" width=\"1000\">\n",
        "\n",
        "Existen dos maneras de acceder a un elemento usando Xpath:\n",
        "\n",
        "### XPath absoluto\n",
        "* Contiene la ruta completa desde el elemento raiz hasta el elemento de interes. <br> Ejemplo: `/html/body/section[2]/div[2]/a[2]/div/div[1]/img`\n",
        "  * Contra: Cualquier cambio en la ruta del elemento hace que ya no se acceda de esa forma.\n",
        "\n",
        "### XPath relativo\n",
        "* Comienza haciendo referencia al elemento que queremos ubicar en relación con una ubicación particular. Esto significa que el elemento está posicionado con relación a su posición normal. <br> Ejemplo: \n",
        "`//*[@id=\"que-hacemos-a-tag\"]/div/div[1]/img`\n",
        "  * Cualquier cambio en el diseño de la página o la jerarquía DOM tendrá un impacto mínimo (o nulo) en el selector XPath existente.\n",
        "  * Su estructura básica es la siguiente: <br>\n",
        "  <font size=6>\n",
        "  <center>\n",
        "  <font color='red'>//</font><font color='blue'>nombreDelTag</font>[@<font color='green'>Atributo</font>=<font color='purple'>\"valor\"</font>]\n",
        "</center>\n",
        "<font>\n",
        "\n",
        "### Seleccion de nodos desconocidos\n",
        "\n",
        "* El asterisco (**\\***) o *wildcard* sirve como reemplazo para el nombre del tag, funcionando como comodín para cualquiera de ellos. <br>\n",
        "Ejemplo: `//*[@id=\"soy_un_div\"]`\n",
        "\n",
        "\n",
        "* El arroba seguido de asterisco (**\\@***) *matchea* cualquier atributo de un elemento. <br>\n",
        "Ejemplo: `//h2[@*=\"soy_un_subtitulo\"]`\n",
        "\n",
        "### Algunas funciones\n",
        "\n",
        "* `contains()` permite ver si un elemento contiene una *string* en particular. No es necesario que sea match exacto, sino que forme parte de la *string*.<br>\n",
        "Ejemplo: `//div[contains(@class,\"que\")]`\n",
        "\n",
        "* ` text() ` nos permite obtener un elemento en base al texto que tiene dentro del tag <br>\n",
        "Ejemplo: `//*[text()=\"SABER MÁS\"]`\n",
        "\n",
        "Tambien los podriamos usar juntos: `//*[contains(text(),\"SABER\")]` 🤯\n",
        "\n",
        "\n",
        "\n",
        "\n",
        "**Hay mucho mucho más!** <br>\n",
        "\n",
        "Xpath cheatsheet super completa: https://www.lambdatest.com/blog/most-exhaustive-xpath-locators-cheat-sheet/\n",
        "\n"
      ]
    },
    {
      "cell_type": "markdown",
      "metadata": {
        "id": "IlqNHdOqVhr3"
      },
      "source": [
        "## **Robots que controlan nuestro navegador** 🦾\n",
        "\n",
        "A veces los sitios webs tienen ciertas características que hacen que los métodos que venimos utilizando no funcionen.\n",
        "\n",
        "En esos casos uno puede intentar desarrollar una especie de robot que controle nuestro navegador interactuando con internet de igual forma que lo hace un humano. Hay una herramienta llamada __Selenium__ que puede utilizarse exactamente para eso.\n",
        "\n",
        "\n",
        "### ¿Como se hace para programar un robot para que utilice un sitio web?\n",
        "\n",
        "Lo principal es saber como localizar un elemento en la pagina.\n",
        "Selenium nos permite hacerlo de diversas formas (id, tag, clase, selector de CSS, etc)"
      ]
    },
    {
      "cell_type": "markdown",
      "metadata": {
        "id": "yjduskN_aU8C"
      },
      "source": [
        "## **Web scraping avanzado con Selenium**\n",
        "\n",
        "<img src=\"https://selenium-python.readthedocs.io/_static/logo.png\" alt=\"selenium-logo\">\n",
        "\n",
        "### ¿Qué es Selenium?\n",
        "* Es una herramienta de testing y automatización que tiene una API para Python (entre otros lenguajes)\n",
        "\n",
        "* No fue pensado específicamente para web scraping ni web crawling, pero gracias al sistema cliente/servidor Web Driver permite utilizar un navegador de forma local o en remoto.\n",
        "Esto nos da acceso a un navegador con el que podemos recorrer la web.\n",
        "\n",
        "### ¿En qué casos podria resultarnos util?\n",
        "* Páginas dinámicas (por ej: [AJAX](https://developer.mozilla.org/es/docs/Web/Guide/AJAX), [lazy loading](https://developer.mozilla.org/en-US/docs/Web/Performance/Lazy_loading))\n",
        "* Scrolleo infinito\n",
        "* Completar formularios, autenticación, pop ups, manejo de sesiones, ¿captchas?,  etc  ...\n",
        "\n",
        "* va a permitirnos recorrer internet con un navegador \"virtual\", permitiéndonos hacer click, scroll, etc.\n",
        "\n",
        "* En Google Colab solo podremos usarlo sin interfaz grafica (*headless*).\n",
        "\n",
        "\n",
        "Si podemos ver esa informacion en el navegador, deberiamos poder *scrapearla*.\n",
        "\n",
        "- Documentacion oficial: https://www.selenium.dev/documentation/\n",
        "- Documentacion no oficial pero recomendada: https://selenium-python.readthedocs.io/\n",
        "\n"
      ]
    },
    {
      "cell_type": "markdown",
      "metadata": {
        "id": "pRcpDhKurGsk"
      },
      "source": [
        "## **Hola mundo con Selenium: Buscar en google**\n",
        "\n",
        "Veamos un poco como se usa esta nueva herramienta.\n",
        "\n",
        "La base de Selenium (y un poco del web scraping en general) es la selección de elementos en la web. Para esto nos provee varios métodos:\n",
        "\n",
        "\n",
        "Para aprender más: https://selenium-python.readthedocs.io/locating-elements.html"
      ]
    },
    {
      "cell_type": "markdown",
      "metadata": {
        "id": "ZM1uR67U102y"
      },
      "source": [
        "### Instalación y configuración"
      ]
    },
    {
      "cell_type": "code",
      "execution_count": null,
      "metadata": {
        "id": "gB435MUYWWYG",
        "outputId": "19ef6869-b5a4-40ba-808c-a1acc2f94a75",
        "colab": {
          "base_uri": "https://localhost:8080/"
        }
      },
      "outputs": [
        {
          "output_type": "stream",
          "name": "stdout",
          "text": [
            "Looking in indexes: https://pypi.org/simple, https://us-python.pkg.dev/colab-wheels/public/simple/\n",
            "Collecting selenium\n",
            "  Downloading selenium-4.4.3-py3-none-any.whl (985 kB)\n",
            "\u001b[K     |████████████████████████████████| 985 kB 4.2 MB/s \n",
            "\u001b[?25hCollecting urllib3[socks]~=1.26\n",
            "  Downloading urllib3-1.26.12-py2.py3-none-any.whl (140 kB)\n",
            "\u001b[K     |████████████████████████████████| 140 kB 57.4 MB/s \n",
            "\u001b[?25hCollecting trio-websocket~=0.9\n",
            "  Downloading trio_websocket-0.9.2-py3-none-any.whl (16 kB)\n",
            "Collecting trio~=0.17\n",
            "  Downloading trio-0.21.0-py3-none-any.whl (358 kB)\n",
            "\u001b[K     |████████████████████████████████| 358 kB 45.3 MB/s \n",
            "\u001b[?25hRequirement already satisfied: certifi>=2021.10.8 in /usr/local/lib/python3.7/dist-packages (from selenium) (2022.6.15)\n",
            "Collecting sniffio\n",
            "  Downloading sniffio-1.3.0-py3-none-any.whl (10 kB)\n",
            "Collecting outcome\n",
            "  Downloading outcome-1.2.0-py2.py3-none-any.whl (9.7 kB)\n",
            "Requirement already satisfied: idna in /usr/local/lib/python3.7/dist-packages (from trio~=0.17->selenium) (2.10)\n",
            "Collecting async-generator>=1.9\n",
            "  Downloading async_generator-1.10-py3-none-any.whl (18 kB)\n",
            "Requirement already satisfied: attrs>=19.2.0 in /usr/local/lib/python3.7/dist-packages (from trio~=0.17->selenium) (22.1.0)\n",
            "Requirement already satisfied: sortedcontainers in /usr/local/lib/python3.7/dist-packages (from trio~=0.17->selenium) (2.4.0)\n",
            "Collecting wsproto>=0.14\n",
            "  Downloading wsproto-1.2.0-py3-none-any.whl (24 kB)\n",
            "Requirement already satisfied: PySocks!=1.5.7,<2.0,>=1.5.6 in /usr/local/lib/python3.7/dist-packages (from urllib3[socks]~=1.26->selenium) (1.7.1)\n",
            "Collecting h11<1,>=0.9.0\n",
            "  Downloading h11-0.13.0-py3-none-any.whl (58 kB)\n",
            "\u001b[K     |████████████████████████████████| 58 kB 4.7 MB/s \n",
            "\u001b[?25hRequirement already satisfied: typing-extensions in /usr/local/lib/python3.7/dist-packages (from h11<1,>=0.9.0->wsproto>=0.14->trio-websocket~=0.9->selenium) (4.1.1)\n",
            "Installing collected packages: sniffio, outcome, h11, async-generator, wsproto, urllib3, trio, trio-websocket, selenium\n",
            "  Attempting uninstall: urllib3\n",
            "    Found existing installation: urllib3 1.24.3\n",
            "    Uninstalling urllib3-1.24.3:\n",
            "      Successfully uninstalled urllib3-1.24.3\n",
            "\u001b[31mERROR: pip's dependency resolver does not currently take into account all the packages that are installed. This behaviour is the source of the following dependency conflicts.\n",
            "requests 2.23.0 requires urllib3!=1.25.0,!=1.25.1,<1.26,>=1.21.1, but you have urllib3 1.26.12 which is incompatible.\u001b[0m\n",
            "Successfully installed async-generator-1.10 h11-0.13.0 outcome-1.2.0 selenium-4.4.3 sniffio-1.3.0 trio-0.21.0 trio-websocket-0.9.2 urllib3-1.26.12 wsproto-1.2.0\n",
            "Hit:1 http://archive.ubuntu.com/ubuntu bionic InRelease\n",
            "Get:2 http://archive.ubuntu.com/ubuntu bionic-updates InRelease [88.7 kB]\n",
            "Get:3 https://cloud.r-project.org/bin/linux/ubuntu bionic-cran40/ InRelease [3,626 B]\n",
            "Get:4 http://security.ubuntu.com/ubuntu bionic-security InRelease [88.7 kB]\n",
            "Get:5 http://archive.ubuntu.com/ubuntu bionic-backports InRelease [74.6 kB]\n",
            "Get:6 http://ppa.launchpad.net/c2d4u.team/c2d4u4.0+/ubuntu bionic InRelease [15.9 kB]\n",
            "Ign:7 https://developer.download.nvidia.com/compute/machine-learning/repos/ubuntu1804/x86_64  InRelease\n",
            "Hit:8 https://developer.download.nvidia.com/compute/cuda/repos/ubuntu1804/x86_64  InRelease\n",
            "Hit:9 https://developer.download.nvidia.com/compute/machine-learning/repos/ubuntu1804/x86_64  Release\n",
            "Hit:10 http://ppa.launchpad.net/cran/libgit2/ubuntu bionic InRelease\n",
            "Get:11 https://cloud.r-project.org/bin/linux/ubuntu bionic-cran40/ Packages [92.1 kB]\n",
            "Hit:12 http://ppa.launchpad.net/deadsnakes/ppa/ubuntu bionic InRelease\n",
            "Hit:13 http://ppa.launchpad.net/graphics-drivers/ppa/ubuntu bionic InRelease\n",
            "Get:14 http://archive.ubuntu.com/ubuntu bionic-updates/main amd64 Packages [3,422 kB]\n",
            "Get:15 http://archive.ubuntu.com/ubuntu bionic-updates/universe amd64 Packages [2,322 kB]\n",
            "Get:16 http://archive.ubuntu.com/ubuntu bionic-updates/restricted amd64 Packages [1,202 kB]\n",
            "Get:17 http://ppa.launchpad.net/c2d4u.team/c2d4u4.0+/ubuntu bionic/main Sources [2,108 kB]\n",
            "Get:19 http://security.ubuntu.com/ubuntu bionic-security/universe amd64 Packages [1,545 kB]\n",
            "Get:20 http://ppa.launchpad.net/c2d4u.team/c2d4u4.0+/ubuntu bionic/main amd64 Packages [1,080 kB]\n",
            "Get:21 http://security.ubuntu.com/ubuntu bionic-security/main amd64 Packages [2,990 kB]\n",
            "Get:22 http://security.ubuntu.com/ubuntu bionic-security/restricted amd64 Packages [1,161 kB]\n",
            "Fetched 16.2 MB in 4s (4,468 kB/s)\n",
            "Reading package lists... Done\n",
            "Reading package lists... Done\n",
            "Building dependency tree       \n",
            "Reading state information... Done\n",
            "The following package was automatically installed and is no longer required:\n",
            "  libnvidia-common-460\n",
            "Use 'apt autoremove' to remove it.\n",
            "The following additional packages will be installed:\n",
            "  chromium-browser chromium-browser-l10n chromium-codecs-ffmpeg-extra\n",
            "Suggested packages:\n",
            "  webaccounts-chromium-extension unity-chromium-extension\n",
            "The following NEW packages will be installed:\n",
            "  chromium-browser chromium-browser-l10n chromium-chromedriver\n",
            "  chromium-codecs-ffmpeg-extra\n",
            "0 upgraded, 4 newly installed, 0 to remove and 38 not upgraded.\n",
            "Need to get 91.7 MB of archives.\n",
            "After this operation, 309 MB of additional disk space will be used.\n",
            "Get:1 http://archive.ubuntu.com/ubuntu bionic-updates/universe amd64 chromium-codecs-ffmpeg-extra amd64 105.0.5195.102-0ubuntu0.18.04.1 [1,156 kB]\n",
            "Get:2 http://archive.ubuntu.com/ubuntu bionic-updates/universe amd64 chromium-browser amd64 105.0.5195.102-0ubuntu0.18.04.1 [80.1 MB]\n",
            "Get:3 http://archive.ubuntu.com/ubuntu bionic-updates/universe amd64 chromium-browser-l10n all 105.0.5195.102-0ubuntu0.18.04.1 [5,097 kB]\n",
            "Get:4 http://archive.ubuntu.com/ubuntu bionic-updates/universe amd64 chromium-chromedriver amd64 105.0.5195.102-0ubuntu0.18.04.1 [5,320 kB]\n",
            "Fetched 91.7 MB in 2s (46.6 MB/s)\n",
            "Selecting previously unselected package chromium-codecs-ffmpeg-extra.\n",
            "(Reading database ... 155569 files and directories currently installed.)\n",
            "Preparing to unpack .../chromium-codecs-ffmpeg-extra_105.0.5195.102-0ubuntu0.18.04.1_amd64.deb ...\n",
            "Unpacking chromium-codecs-ffmpeg-extra (105.0.5195.102-0ubuntu0.18.04.1) ...\n",
            "Selecting previously unselected package chromium-browser.\n",
            "Preparing to unpack .../chromium-browser_105.0.5195.102-0ubuntu0.18.04.1_amd64.deb ...\n",
            "Unpacking chromium-browser (105.0.5195.102-0ubuntu0.18.04.1) ...\n",
            "Selecting previously unselected package chromium-browser-l10n.\n",
            "Preparing to unpack .../chromium-browser-l10n_105.0.5195.102-0ubuntu0.18.04.1_all.deb ...\n",
            "Unpacking chromium-browser-l10n (105.0.5195.102-0ubuntu0.18.04.1) ...\n",
            "Selecting previously unselected package chromium-chromedriver.\n",
            "Preparing to unpack .../chromium-chromedriver_105.0.5195.102-0ubuntu0.18.04.1_amd64.deb ...\n",
            "Unpacking chromium-chromedriver (105.0.5195.102-0ubuntu0.18.04.1) ...\n",
            "Setting up chromium-codecs-ffmpeg-extra (105.0.5195.102-0ubuntu0.18.04.1) ...\n",
            "Setting up chromium-browser (105.0.5195.102-0ubuntu0.18.04.1) ...\n",
            "update-alternatives: using /usr/bin/chromium-browser to provide /usr/bin/x-www-browser (x-www-browser) in auto mode\n",
            "update-alternatives: using /usr/bin/chromium-browser to provide /usr/bin/gnome-www-browser (gnome-www-browser) in auto mode\n",
            "Setting up chromium-chromedriver (105.0.5195.102-0ubuntu0.18.04.1) ...\n",
            "Setting up chromium-browser-l10n (105.0.5195.102-0ubuntu0.18.04.1) ...\n",
            "Processing triggers for man-db (2.8.3-2ubuntu0.1) ...\n",
            "Processing triggers for hicolor-icon-theme (0.17-2) ...\n",
            "Processing triggers for mime-support (3.60ubuntu1) ...\n",
            "Processing triggers for libc-bin (2.27-3ubuntu1.5) ...\n"
          ]
        }
      ],
      "source": [
        "# Ver https://stackoverflow.com/questions/51046454/how-can-we-use-selenium-webdriver-in-colab-research-google-com\n",
        "\n",
        "# Instalación de dependencias en la compu que nos presta Google\n",
        "!pip install selenium\n",
        "!apt-get update \n",
        "!apt install chromium-chromedriver -q\n",
        "\n",
        "import sys\n",
        "sys.path.insert(0,'/usr/lib/chromium-browser/chromedriver')\n",
        "from selenium import webdriver\n",
        "from selenium.webdriver.support.ui import Select\n",
        "from selenium.webdriver.common.keys import Keys\n",
        "from selenium.webdriver.support.ui import WebDriverWait \n",
        "from selenium.webdriver.common.by import By\n",
        "from selenium.webdriver.support import expected_conditions as EC\n",
        "\n",
        "options = webdriver.ChromeOptions() # Usamos chrome, se podria usar otro.\n",
        "options.add_argument('--headless') # Chromium sin interfaz grafica\n",
        "options.add_argument('--no-sandbox') # Seguridad\n",
        "options.add_argument('--disable-dev-shm-usage') # configuracion de linux\n",
        "options.add_argument('--user-agent=\"\"Mozilla/5.0 (Windows NT 10.0; Win64; x64) AppleWebKit/537.36 (KHTML, like Gecko) Chrome/74.0.3729.157 Safari/537.36\"\"') # user agent\n",
        "\n",
        "driver = webdriver.Chrome('chromedriver',options=options)"
      ]
    },
    {
      "cell_type": "code",
      "source": [
        "# Configuramos el web driver\n",
        "wd = webdriver.Chrome('chromedriver',options=options)\n",
        "\n",
        "\n",
        "# Probemos buscando en google automágicamente\n",
        "url = \"https://www.google.com/\" \n",
        "wd.get(url)\n",
        "WebDriverWait(wd, 10).until(EC.element_to_be_clickable((By.XPATH, \"//input[@name='q']\")))\n",
        "\n",
        "input = wd.find_element(By.XPATH, \"//input[@name='q']\")\n",
        "\n",
        "input.send_keys(\"humai inteligencia artificial\" + Keys.ENTER)\n",
        "\n"
      ],
      "metadata": {
        "id": "jWrStt6NBTN6"
      },
      "execution_count": null,
      "outputs": []
    },
    {
      "cell_type": "code",
      "source": [
        "# tomemos un screenshot\n",
        "wd.save_screenshot('screenshot_google.png')"
      ],
      "metadata": {
        "colab": {
          "base_uri": "https://localhost:8080/"
        },
        "id": "xe9Ju-KaFKuN",
        "outputId": "a56b5cc7-0eb9-4e9f-9f7f-e7392d0b599c"
      },
      "execution_count": null,
      "outputs": [
        {
          "output_type": "execute_result",
          "data": {
            "text/plain": [
              "True"
            ]
          },
          "metadata": {},
          "execution_count": 3
        }
      ]
    },
    {
      "cell_type": "code",
      "source": [
        "# Otro ejemplo\n",
        "\n",
        "url = \"https://www.wikipedia.org/\" \n",
        "wd.get(url)\n",
        "\n",
        "# Tiempo  de espera ( si encuentra antes, no espera)\n",
        "wd.implicitly_wait(20)\n",
        "\n",
        "# Busco el boton de wikipedia en español\n",
        "boton_wiki_esp = wd.find_element(By.ID, 'js-link-box-es')\n",
        "\n",
        "# Le hago click\n",
        "boton_wiki_esp.click()\n",
        "\n",
        "hello_wiki = wd.find_element(By.ID,'Bienvenidos_a_Wikipedia,')\n",
        "main_article = wd.find_element(By.ID,'main-tfa')\n",
        "\n",
        "print(f'Texto de bienvenida:\\n {hello_wiki.text}\\n')\n",
        "print(f'Texto del articulo destacado:\\n{main_article.text}')"
      ],
      "metadata": {
        "colab": {
          "base_uri": "https://localhost:8080/"
        },
        "id": "8pzQgOtTGep3",
        "outputId": "e2ae8d49-9265-42e1-d5b1-7fbab171297e"
      },
      "execution_count": null,
      "outputs": [
        {
          "output_type": "stream",
          "name": "stdout",
          "text": [
            "Texto de bienvenida:\n",
            " Bienvenidos a Wikipedia,\n",
            "\n",
            "Texto del articulo destacado:\n",
            "Artículo destacado\n",
            "All I Want for Christmas Is You\n",
            "Mariah Carey en una interpretación en vivo en Las Vegas en 2009.\n",
            "«All I Want for Christmas Is You» es una canción navideña de estilo pop coescrita e interpretada por la cantante estadounidense Mariah Carey, y distribuida por Columbia Records a partir de 1994 como el sencillo principal del cuarto álbum de estudio de la intérprete, Merry Christmas.\n",
            "Carey y Walter Afanasieff participaron tanto en la redacción de la letra como en la producción de la canción, en la que ella declara su interés en pasar las fiestas decembrinas acompañada de su ser amado, en vez de recibir obsequios o adornos navideños. Es una canción con tempo rápido, cuya instrumentación incluye el uso de piano, pandereta y coros. Para su promoción se produjeron en diciembre de 1993 dos videos musicales con Carey como protagonista.\n",
            "Leer\n",
            "Todos los artículos destacados\n"
          ]
        }
      ]
    },
    {
      "cell_type": "code",
      "execution_count": null,
      "metadata": {
        "id": "Hzc538_7rGs4",
        "colab": {
          "base_uri": "https://localhost:8080/"
        },
        "outputId": "e2a1c42d-12fd-48b2-e7b9-ca7abd9ec3a3"
      },
      "outputs": [
        {
          "output_type": "stream",
          "name": "stdout",
          "text": [
            "Heading: \n",
            "Procesamiento de lenguajes naturales\n"
          ]
        }
      ],
      "source": [
        "# El input del formulario de busqueda\n",
        "\n",
        "search_input = wd.find_element(By.ID,'searchInput')\n",
        "\n",
        "# El boton de busqueda\n",
        "search_button = wd.find_element(By.ID,'searchButton')\n",
        "\n",
        "# Envio el texto que quiero que ponga en el formulario\n",
        "search_input.send_keys('Procesamiento del lenguaje natural')\n",
        "\n",
        "#Hago click\n",
        "search_button.click()\n",
        "\n",
        "# Imprimo el título de la página a la que se accedió\n",
        "heading = wd.find_element(By.ID,\"firstHeading\")\n",
        "print(f'Heading: \\n{heading.text}') "
      ]
    },
    {
      "cell_type": "code",
      "source": [
        "# Podemos sacar una captura de pantalla \n",
        "wd.save_screenshot('screenshot_wikipedia.png')"
      ],
      "metadata": {
        "colab": {
          "base_uri": "https://localhost:8080/"
        },
        "id": "rmM5u7D7G3nm",
        "outputId": "ea90ab5a-4b3b-4889-a94e-33bbbf6ec21f"
      },
      "execution_count": null,
      "outputs": [
        {
          "output_type": "execute_result",
          "data": {
            "text/plain": [
              "True"
            ]
          },
          "metadata": {},
          "execution_count": 6
        }
      ]
    },
    {
      "cell_type": "code",
      "execution_count": null,
      "metadata": {
        "id": "_PuzfMY9VhsE"
      },
      "outputs": [],
      "source": [
        "# Cerramos el web driver\n",
        "wd.close()"
      ]
    },
    {
      "cell_type": "markdown",
      "metadata": {
        "id": "xmgNyogU9w5U"
      },
      "source": [
        "## **Caso de uso Nº 1: Scroll infinito**\n",
        "\n",
        "Existen páginas que no muestran todo el contenido a menos que vayamos hasta abajo (*scroll*). Esta acción dispara un evento de javascript que renderiza más HTML y por lo tanto vemos contenido nuevo.\n",
        "\n",
        "Podemos emular la acción de mediante Selenium."
      ]
    },
    {
      "cell_type": "code",
      "execution_count": null,
      "metadata": {
        "colab": {
          "base_uri": "https://localhost:8080/"
        },
        "id": "UwqqBs_P96cW",
        "outputId": "2d296768-edc6-4298-c1d0-9c16330f9b88"
      },
      "outputs": [
        {
          "output_type": "stream",
          "name": "stdout",
          "text": [
            "1a - Infinite Scroll full page demo\n",
            "1b - RGB Schemes logo in Computer Arts\n"
          ]
        }
      ],
      "source": [
        "# Configuramos el web driver\n",
        "driver = webdriver.Chrome('chromedriver',options=options)\n",
        "\n",
        "# Hacemos el pedido a la URL\n",
        "url = \"https://infinite-scroll.com/demo/full-page/\" \n",
        "driver.get(url)\n",
        "\n",
        "# Busco todos los h2 (notar la sutileza del metodo elements con la 's' al final)\n",
        "h2_list = driver.find_elements(By.CSS_SELECTOR, 'h2')\n",
        "for h2 in h2_list:\n",
        "  print(h2.text)"
      ]
    },
    {
      "cell_type": "markdown",
      "metadata": {
        "id": "rgrP5sUH-iws"
      },
      "source": [
        "Ahora veamos si obtenemos los mismos `h2` si utilizamos selenium para hacer *scroll*"
      ]
    },
    {
      "cell_type": "code",
      "execution_count": null,
      "metadata": {
        "id": "1DlxEjmK9zLC",
        "colab": {
          "base_uri": "https://localhost:8080/"
        },
        "outputId": "4532094d-ade7-4768-ecd5-f4f3628d44b8"
      },
      "outputs": [
        {
          "output_type": "stream",
          "name": "stdout",
          "text": [
            "Iteracion numero 1\n",
            "\n",
            "\n",
            "1a - Infinite Scroll full page demo\n",
            "1b - RGB Schemes logo in Computer Arts\n",
            "\n",
            "\n",
            "\n",
            "Iteracion numero 2\n",
            "\n",
            "\n",
            "1a - Infinite Scroll full page demo\n",
            "1b - RGB Schemes logo in Computer Arts\n",
            "2a - RGB Schemes logo\n",
            "2b - Masonry gets horizontalOrder\n",
            "2c - Every vector 2016\n",
            "\n",
            "\n",
            "\n",
            "Iteracion numero 3\n",
            "\n",
            "\n",
            "1a - Infinite Scroll full page demo\n",
            "1b - RGB Schemes logo in Computer Arts\n",
            "2a - RGB Schemes logo\n",
            "2b - Masonry gets horizontalOrder\n",
            "2c - Every vector 2016\n",
            "3a - Logo Pizza delivered\n",
            "3b - Some CodePens\n",
            "3c - 365daysofmusic.com\n",
            "3d - Holograms\n",
            "\n",
            "\n",
            "\n",
            "Iteracion numero 4\n",
            "\n",
            "\n",
            "1a - Infinite Scroll full page demo\n",
            "1b - RGB Schemes logo in Computer Arts\n",
            "2a - RGB Schemes logo\n",
            "2b - Masonry gets horizontalOrder\n",
            "2c - Every vector 2016\n",
            "3a - Logo Pizza delivered\n",
            "3b - Some CodePens\n",
            "3c - 365daysofmusic.com\n",
            "3d - Holograms\n",
            "4a - Huebee: 1-click color picker\n",
            "4b - Word is Flickity is good\n",
            "\n",
            "\n",
            "\n",
            "Iteracion numero 5\n",
            "\n",
            "\n",
            "1a - Infinite Scroll full page demo\n",
            "1b - RGB Schemes logo in Computer Arts\n",
            "2a - RGB Schemes logo\n",
            "2b - Masonry gets horizontalOrder\n",
            "2c - Every vector 2016\n",
            "3a - Logo Pizza delivered\n",
            "3b - Some CodePens\n",
            "3c - 365daysofmusic.com\n",
            "3d - Holograms\n",
            "4a - Huebee: 1-click color picker\n",
            "4b - Word is Flickity is good\n",
            "\n",
            "\n",
            "\n"
          ]
        }
      ],
      "source": [
        "driver.save_screenshot(f'infinite_page.screenshot.png')\n",
        "\n",
        "# Hago lo mismo que antes pero iterando 5 veces y pidiendole que scrollee hasta el final cada vez y saque un screenshot\n",
        "for i in range(5):\n",
        "  print(f'Iteracion numero {i+1}\\n\\n')\n",
        "  driver.save_screenshot(f'infinite_page_{i+1}.screenshot.png')\n",
        "  # el metodo execute_script me permite ejecutar codigo de javascript, en este caso para ir al final de la pagina\n",
        "  driver.execute_script(\"window.scrollTo(0, document.body.scrollHeight);\") \n",
        "  h2_list = driver.find_elements(By.CSS_SELECTOR, 'h2')\n",
        "  \n",
        "  for h2 in h2_list:\n",
        "    print(h2.text)\n",
        "  print('\\n\\n')"
      ]
    },
    {
      "cell_type": "code",
      "execution_count": null,
      "metadata": {
        "id": "5c5ICJi8UTYG"
      },
      "outputs": [],
      "source": [
        "driver.quit()"
      ]
    },
    {
      "cell_type": "markdown",
      "metadata": {
        "id": "uOjIXqJWMBzp"
      },
      "source": [
        "## **Caso de uso Nº 2: Páginas que usan JavaScript para mostrar el contenido de manera asíncrona**\n",
        "\n",
        "* Hay páginas que cuando hacemos un request a su URL no nos devuelve lo que esperamos. Sino bastante código de JavaScript (entre etiquetas `<script>`)\n",
        "\n",
        "* En esos casos hay que esperar un tiempo y/o interactuar con la pagina.\n",
        "\n",
        "Ejemplo: http://www.parrocchiemap.it/parrocchiemap/ricerca_pm.jsp?diocesi=Milano&idzonapastoraler=296\n",
        "\n"
      ]
    },
    {
      "cell_type": "code",
      "execution_count": null,
      "metadata": {
        "id": "aFWyNIwvP-dW"
      },
      "outputs": [],
      "source": [
        "# options = webdriver.ChromeOptions() # Usamos chrome, se podria usar otro.\n",
        "# options.add_argument('--headless')\n",
        "# options.add_argument('--no-sandbox')\n",
        "# options.add_argument('--disable-dev-shm-usage')\n",
        "\n",
        "idzonapastorale_value = []\n",
        "idzonapastorale_text = []\n",
        "\n",
        "driver = webdriver.Chrome('chromedriver',options=options)\n",
        "\n",
        "url = \"http://www.parrocchiemap.it/parrocchiemap/ricerca_pm.jsp?diocesi=Milano&idzonapastoraler=296\"\n",
        "\n",
        "# Hacemos el pedido a la URL\n",
        "driver.get(url)\n",
        "\n",
        "# Ejecuto codigo de javacript para ir al final de la pagina\n",
        "driver.execute_script(\"window.scrollTo(0, document.body.scrollHeight);\") \n",
        "\n",
        "# # Espero a que cargue la pagina\n",
        "WebDriverWait(driver, timeout=5)\n",
        "\n",
        "\n",
        "# El metodo Select nos permite acceder a las opciones en un menu desplegable (drop-down)\n",
        "select = Select(driver.find_element(By.ID, 'idzonapastorale'))\n",
        "for item in select.options:\n",
        "    print(item.get_attribute('innerText'), item.get_attribute('value')) \n",
        "    idzonapastorale_value.append(item.get_attribute('value'))\n",
        "    idzonapastorale_text.append(item.get_attribute('innerText'))"
      ]
    },
    {
      "cell_type": "code",
      "execution_count": null,
      "metadata": {
        "id": "LQ4UdD8Aa2At"
      },
      "outputs": [],
      "source": [
        "pagesource_list = []\n",
        "\n",
        "diocesi = 'Milano' \n",
        "for zona in idzonapastorale_value:\n",
        "  print(f'Mirando la zona: {zona}' )\n",
        "  # Configuramos el web driver\n",
        "  driver = webdriver.Chrome('chromedriver',options=options)\n",
        "  idzonapastorale = zona\n",
        "  url = f\"http://www.parrocchiemap.it/parrocchiemap/ricerca_pm.jsp?diocesi={diocesi}&idzonapastoraler={idzonapastorale}\" \n",
        "\n",
        "  # Hacemos el pedido a la URL\n",
        "  driver.get(url)\n",
        "\n",
        "  driver.execute_script(\"window.scrollTo(0, document.body.scrollHeight);\") \n",
        "\n",
        "  # # Espero a que cargue la pagina a la vieja usanza\n",
        "  # time.sleep(10) \n",
        "  WebDriverWait(driver, timeout=5)\n",
        "\n",
        "  # Cambio el driver para que este en el iframe\n",
        "  driver.switch_to.frame(driver.find_element(By.TAG_NAME, \"iframe\"))\n",
        "\n",
        "  # Una manera de quedarse con el HTML\n",
        "  html = driver.execute_script(\"return document.getElementsByTagName('html')[0].innerHTML\")\n",
        "\n",
        "  # Otra manera usando el atributo del web driver\n",
        "  pageSource = driver.page_source\n",
        "\n",
        "  pagesource_list.append(pageSource)\n",
        "\n",
        "  driver.save_screenshot(f'screenshot_{zona}.png')"
      ]
    },
    {
      "cell_type": "code",
      "execution_count": null,
      "metadata": {
        "id": "E-11V9hna_4H"
      },
      "outputs": [],
      "source": [
        "# Proceso los mails\n",
        "\n",
        "import re\n",
        "\n",
        "def procesar_mails(pagesource_list):\n",
        "  mails_total = []\n",
        "\n",
        "  for zona in pagesource_list:\n",
        "    mails = []\n",
        "    pos = []\n",
        "    # obteniendo los mails\n",
        "    match = re.findall(r'(mailto:\\S+@\\S+)', zona)\n",
        "    \n",
        "    for num, i in enumerate(match):\n",
        "      pos.append(num)\n",
        "      lista = i.split('+')\n",
        "      mail = ''.join(lista[0][7:].replace(\"'\", \"\")+lista[1].replace(\"'\", \"\")+lista[2].replace(\"'\", \"\")).split(',')[0].split(';')[0]\n",
        "      mails.append(mail)\n",
        "\n",
        "    mails_total.append(mails)\n",
        "\n",
        "  return mails_total\n",
        "\n",
        "mails_total = procesar_mails(pagesource_list)"
      ]
    },
    {
      "cell_type": "code",
      "execution_count": null,
      "metadata": {
        "id": "R9SWIzsmbD8O"
      },
      "outputs": [],
      "source": [
        "# Armo un Pandas Dataframe en base al diccionario\n",
        "import pandas as pd\n",
        "\n",
        "diccionario_mails = dict()\n",
        "df_list = [] \n",
        "for num, zona in enumerate(idzonapastorale_text[1:]):\n",
        "   diccionario_mails[f'df{num+1}']= pd.DataFrame(mails_total[num+1], columns=[f'{zona}'])\n",
        "   df_list.append(diccionario_mails[f'df{num+1}'])\n",
        "\n",
        "df_final = pd.concat(df_list, axis=1)\n",
        "df_final"
      ]
    },
    {
      "cell_type": "code",
      "execution_count": null,
      "metadata": {
        "id": "bn-vl0BGbJLA"
      },
      "outputs": [],
      "source": [
        "# Pasamos el dataframe a formato csv\n",
        "df_final.to_csv() # Si pasan como argumento un string con el nombre del archivo lo guarda. Ej: 'datos.csv'"
      ]
    },
    {
      "cell_type": "markdown",
      "metadata": {
        "id": "Ntfb16H_6ldE"
      },
      "source": [
        "## **Caso de uso Nº 3: Alertas, prompts y confirmaciones**\n",
        "\n",
        "La idea es aprender como lidiar con distintos tipos de ventanas emergentes que pueden aparecer mientras nuestro scrapper está funcionando."
      ]
    },
    {
      "cell_type": "markdown",
      "metadata": {
        "id": "664uP2v5MzK3"
      },
      "source": [
        "alerta simple de javascript"
      ]
    },
    {
      "cell_type": "code",
      "execution_count": null,
      "metadata": {
        "id": "bkiCRPKYM1xb",
        "colab": {
          "base_uri": "https://localhost:8080/"
        },
        "outputId": "bde0a2f9-594b-49fd-9011-fd03483d3374"
      },
      "outputs": [
        {
          "output_type": "stream",
          "name": "stdout",
          "text": [
            "Texto de la alerta:  What is your tool of choice?\n"
          ]
        }
      ],
      "source": [
        "driver = webdriver.Chrome('chromedriver',options=options)\n",
        "\n",
        "url = \"https://www.selenium.dev/documentation/webdriver/js_alerts_prompts_and_confirmations/\" \n",
        "\n",
        "# Hacemos el pedido a la URL\n",
        "driver.get(url)\n",
        "\n",
        "# Click para activar al alerta\n",
        "\n",
        "driver.find_element(By.XPATH, \"/html/body/div/div[1]/div/main/div/p[6]/a\").click()\n",
        "\n",
        "# Wait for the alert to be displayed and store it in a variable\n",
        "# WebDriverWait(driver, 10).until(EC.alert_is_present())\n",
        "\n",
        "alert = driver.switch_to.alert\n",
        "\n",
        "print('Texto de la alerta: ', alert.text)\n",
        "\n",
        "# Aceptamos\n",
        "alert.accept()\n",
        "\n"
      ]
    },
    {
      "cell_type": "code",
      "source": [
        "wd.save_screenshot('screenshot_alert1.png')"
      ],
      "metadata": {
        "colab": {
          "base_uri": "https://localhost:8080/"
        },
        "id": "PRf1dJ5wJ7KQ",
        "outputId": "3f65c0af-34dd-4315-ce74-48b31d9e0e0a"
      },
      "execution_count": null,
      "outputs": [
        {
          "output_type": "execute_result",
          "data": {
            "text/plain": [
              "True"
            ]
          },
          "metadata": {},
          "execution_count": 20
        }
      ]
    },
    {
      "cell_type": "code",
      "source": [
        "driver.quit()"
      ],
      "metadata": {
        "id": "F1esCdhDICWa"
      },
      "execution_count": null,
      "outputs": []
    },
    {
      "cell_type": "markdown",
      "metadata": {
        "id": "Zkkx-jQwPb4H"
      },
      "source": [
        "Caja de confirmacion"
      ]
    },
    {
      "cell_type": "code",
      "execution_count": null,
      "metadata": {
        "id": "KHO1-NFePXYq",
        "colab": {
          "base_uri": "https://localhost:8080/"
        },
        "outputId": "8634f090-cd0e-4291-8982-bcc3dd05669f"
      },
      "outputs": [
        {
          "output_type": "stream",
          "name": "stdout",
          "text": [
            "Texto de la alerta:  Are you sure?\n"
          ]
        }
      ],
      "source": [
        "# Hacemos el pedido a la URL\n",
        "driver = webdriver.Chrome('chromedriver',options=options)\n",
        "\n",
        "driver.get(url)\n",
        "# Click para activar al alerta\n",
        "driver.find_element(By.LINK_TEXT, \"See a sample confirm\").click()\n",
        "\n",
        "# Wait for the alert to be displayed and store it in a variable\n",
        "WebDriverWait(driver, 10).until(EC.alert_is_present())\n",
        "alert = driver.switch_to.alert\n",
        "\n",
        "print('Texto de la alerta: ', alert.text)\n",
        "\n",
        "# para cancelar\n",
        "alert.dismiss()"
      ]
    },
    {
      "cell_type": "code",
      "source": [
        "driver.quit()"
      ],
      "metadata": {
        "id": "8RRoeH9CIHqr"
      },
      "execution_count": null,
      "outputs": []
    },
    {
      "cell_type": "markdown",
      "metadata": {
        "id": "6aYkpBoLP7LE"
      },
      "source": [
        "Prompt\n",
        "\n",
        "Son como las cajas de confirmacion pero tiene un input para texto"
      ]
    },
    {
      "cell_type": "code",
      "execution_count": null,
      "metadata": {
        "id": "gLfCeqJ5QA3k",
        "colab": {
          "base_uri": "https://localhost:8080/"
        },
        "outputId": "8637d85f-d3e9-4df1-e433-6b8d1ce712b4"
      },
      "outputs": [
        {
          "output_type": "stream",
          "name": "stdout",
          "text": [
            "Texto de la alerta:  What is your tool of choice?\n"
          ]
        }
      ],
      "source": [
        "driver = webdriver.Chrome('chromedriver',options=options)\n",
        "\n",
        "# Hacemos el pedido a la URL\n",
        "driver.get(url)\n",
        "\n",
        "# Click para activar al alerta\n",
        "driver.find_element(By.LINK_TEXT, \"See a sample prompt\").click()\n",
        "\n",
        "# Esperamos\n",
        "WebDriverWait(driver, 10).until(EC.alert_is_present())\n",
        "alert = driver.switch_to.alert\n",
        "\n",
        "print('Texto de la alerta: ', alert.text)\n",
        "\n",
        "# Mensaje\n",
        "alert.send_keys(\"Python, obvio\")\n",
        "\n",
        "# Apretamos OK\n",
        "alert.accept()"
      ]
    },
    {
      "cell_type": "markdown",
      "metadata": {
        "id": "pCfagH9EkTgZ"
      },
      "source": [
        "## **Ejemplo real: Spotify 🎵**\n",
        "\n",
        "Veamos como podemos extraer datos"
      ]
    },
    {
      "cell_type": "code",
      "execution_count": null,
      "metadata": {
        "id": "XMUMPPXGkTgb",
        "colab": {
          "base_uri": "https://localhost:8080/"
        },
        "outputId": "e5469ae0-9e91-4fef-fe52-a4fa6d6a3964"
      },
      "outputs": [
        {
          "output_type": "execute_result",
          "data": {
            "text/plain": [
              "True"
            ]
          },
          "metadata": {},
          "execution_count": 83
        }
      ],
      "source": [
        "driver = webdriver.Chrome('chromedriver',options=options)\n",
        "\n",
        "url = 'https://open.spotify.com/'\n",
        "\n",
        "# Hacemos el pedido a la URL\n",
        "driver.get(url)\n",
        "driver.save_screenshot(f'Spotify0.png')\n",
        "\n",
        "#Scroll\n",
        "driver.execute_script(\"window.scrollTo(0, document.body.scrollHeight);\") \n",
        "driver.save_screenshot('spoty.png')"
      ]
    },
    {
      "cell_type": "code",
      "source": [
        "xpath_playlist = '//*[@id=\"main\"]/div/div[2]/div[3]/div[1]/div[2]/div[2]/div/div/div[2]/main/section/div/div/section[1]/div[2]/div[1]/div/div[2]/a/div'\n",
        "WebDriverWait(driver, 10).until(EC.element_to_be_clickable((By.XPATH, xpath_playlist))).click()"
      ],
      "metadata": {
        "id": "64ICm2IVOfT9"
      },
      "execution_count": null,
      "outputs": []
    },
    {
      "cell_type": "code",
      "source": [
        "driver.save_screenshot(f'playlist.png')\n"
      ],
      "metadata": {
        "colab": {
          "base_uri": "https://localhost:8080/"
        },
        "id": "-a-zUIbILUxF",
        "outputId": "2f9116f4-b01e-4657-c453-2796e135b1c2"
      },
      "execution_count": null,
      "outputs": [
        {
          "output_type": "execute_result",
          "data": {
            "text/plain": [
              "True"
            ]
          },
          "metadata": {},
          "execution_count": 85
        }
      ]
    },
    {
      "cell_type": "code",
      "execution_count": null,
      "metadata": {
        "colab": {
          "base_uri": "https://localhost:8080/"
        },
        "id": "6Gz76IT_kTgn",
        "outputId": "371192db-eab1-43b6-cb74-937c9ac5a2f4"
      },
      "outputs": [
        {
          "output_type": "stream",
          "name": "stdout",
          "text": [
            "Título de la playlist: Today's Top Hits\n",
            "Cantidad de likes: 31,890,675 likes\n"
          ]
        }
      ],
      "source": [
        "xpath_titulo = '//*[@id=\"main\"]/div/div[2]/div[3]/div[1]/div[2]/div[2]/div/div/div[2]/main/div/section/div[1]/div[2]/span/h1'\n",
        "titulo = driver.find_element(By.XPATH, xpath_titulo).text\n",
        "\n",
        "print(f\"Título de la playlist: {titulo}\")\n",
        "\n",
        "likes_xpath = '//*[@id=\"main\"]/div/div[2]/div[3]/div[1]/div[2]/div[2]/div/div/div[2]/main/div/section/div[1]/div[2]/div/span[1]'\n",
        "likes = driver.find_element(By.XPATH, likes_xpath).text\n",
        "\n",
        "print(f\"Cantidad de likes: {likes}\")"
      ]
    },
    {
      "cell_type": "markdown",
      "metadata": {
        "id": "CXC6dB4YkTgt"
      },
      "source": [
        "### <font color='red'>Ejercicio</font>\n",
        "Descargar también la duración de la playlist"
      ]
    },
    {
      "cell_type": "code",
      "execution_count": null,
      "metadata": {
        "id": "YXpbmYJer-vo",
        "colab": {
          "base_uri": "https://localhost:8080/"
        },
        "outputId": "392cbf15-d10b-4fc7-f1af-e9034b1b7618"
      },
      "outputs": [
        {
          "output_type": "stream",
          "name": "stdout",
          "text": [
            "Duración de la playlist Today's Top Hits: 2 hr 31 min\n"
          ]
        }
      ],
      "source": [
        "## espacio para la resolucion\n",
        "xpath_duracion = '//*[@id=\"main\"]/div/div[2]/div[3]/div[1]/div[2]/div[2]/div/div/div[2]/main/div/section/div[1]/div[2]/div/span[2]/span'\n",
        "duracion = driver.find_element(By.XPATH, xpath_duracion).text\n",
        "\n",
        "print(f\"Duración de la playlist {titulo}: {duracion}\")\n"
      ]
    },
    {
      "cell_type": "markdown",
      "metadata": {
        "id": "qvb7i3EoVhsJ"
      },
      "source": [
        "## Ejemplo 3: Spotify\n",
        "\n",
        "Veamos como descargar mayores cantidades de datos y recorrer un sitio web"
      ]
    },
    {
      "cell_type": "code",
      "execution_count": null,
      "metadata": {
        "id": "IlvHT3zvVhsK",
        "colab": {
          "base_uri": "https://localhost:8080/"
        },
        "outputId": "27346515-a937-4076-df05-ed70647d307b"
      },
      "outputs": [
        {
          "output_type": "execute_result",
          "data": {
            "text/plain": [
              "<selenium.webdriver.support.wait.WebDriverWait (session=\"6e7befa662ee80307bf31cfadf630c91\")>"
            ]
          },
          "metadata": {},
          "execution_count": 107
        }
      ],
      "source": [
        "driver = webdriver.Chrome('chromedriver',options=options)\n",
        "url = 'https://open.spotify.com/genre/funk'\n",
        "\n",
        "driver.get(url)\n",
        "\n",
        "WebDriverWait(driver, 10)\n"
      ]
    },
    {
      "cell_type": "code",
      "execution_count": null,
      "metadata": {
        "id": "3Q7SGoy9VhsK"
      },
      "outputs": [],
      "source": [
        "#Scroll\n",
        "driver.execute_script(\"window.scrollTo(0, document.body.scrollHeight);\") \n",
        "WebDriverWait(driver, 10)\n",
        "# Obtenemos los elementos. \n",
        "# Observen que en el xpath reconocí como era el link a una playlist y usé el operador `*` para generalizar a todas (`/div[*]/div/div[2]/a`)\n",
        "playlists_elements = driver.find_elements(By.XPATH, \"//*[@id='main']/div/div[2]/div[3]/div[1]/div[2]/div[2]/div/div/div[2]/main/div/section/div[2]/div/section/div[2]/div[*]/div/div[2]/a\")\n",
        "playlists_links = [playlist.get_attribute(\"href\") for playlist in playlists_elements]\n",
        "playlists_links"
      ]
    },
    {
      "cell_type": "markdown",
      "metadata": {
        "id": "SXIzr3I8VhsL"
      },
      "source": [
        "### Ejercicio\n",
        "Completar el siguiente código"
      ]
    },
    {
      "cell_type": "code",
      "execution_count": null,
      "metadata": {
        "id": "eZ-FYpcSVhsL"
      },
      "outputs": [],
      "source": [
        "for url in playlists_links:\n",
        "    # Obtener e imprimir el titulo y likes de cada playlist\n",
        "    # Utilizar un try catch por si alguna playlist falla.\n",
        "    # Para así no frenar todo el procesamiento por una playlist\n",
        "\n",
        "driver.close()"
      ]
    },
    {
      "cell_type": "code",
      "source": [
        "driver.close()"
      ],
      "metadata": {
        "id": "EO-P36qZghgj"
      },
      "execution_count": null,
      "outputs": []
    },
    {
      "cell_type": "code",
      "source": [
        "url = playlists_links[0]\n",
        "driver = webdriver.Chrome('chromedriver',options=options)\n",
        "\n",
        "driver.get(url)\n",
        "WebDriverWait(driver, 10).until(EC.presence_of_element_located((By.XPATH, \"//*[@id='main']/div/div[2]/div[3]/div[1]/div[2]/div[2]/div/div/div[2]/main/div/section/div[1]/div[5]/span/h1\")))\n",
        "\n",
        "driver.save_screenshot('mi_url.png')\n"
      ],
      "metadata": {
        "colab": {
          "base_uri": "https://localhost:8080/"
        },
        "id": "XxDTYhj_eTlh",
        "outputId": "a9f54680-95aa-454f-ea9b-9f2763fbcfab"
      },
      "execution_count": null,
      "outputs": [
        {
          "output_type": "execute_result",
          "data": {
            "text/plain": [
              "True"
            ]
          },
          "metadata": {},
          "execution_count": 125
        }
      ]
    },
    {
      "cell_type": "code",
      "source": [
        "WebDriverWait(driver, 10).until(EC.presence_of_element_located((By.XPATH, \"//*[@id='main']/div/div[2]/div[3]/div[1]/div[2]/div[2]/div/div/div[2]/main/div/section/div[1]/div[5]/span/h1\")))\n"
      ],
      "metadata": {
        "colab": {
          "base_uri": "https://localhost:8080/"
        },
        "id": "o2j4OFmogt4t",
        "outputId": "1d7ec9f3-233e-459a-e513-3201ac0005b5"
      },
      "execution_count": null,
      "outputs": [
        {
          "output_type": "execute_result",
          "data": {
            "text/plain": [
              "<selenium.webdriver.remote.webelement.WebElement (session=\"68f51ae98bf117ec1b25a0fa4ac15efd\", element=\"373ce038-fd20-480a-b760-2aa1b363d2ee\")>"
            ]
          },
          "metadata": {},
          "execution_count": 124
        }
      ]
    },
    {
      "cell_type": "code",
      "source": [
        "driver.save_screenshot('mi_url.png')\n"
      ],
      "metadata": {
        "colab": {
          "base_uri": "https://localhost:8080/"
        },
        "id": "AoUfQuDcgt-P",
        "outputId": "111d97fa-72f5-4adf-8acc-5e32045ef68a"
      },
      "execution_count": null,
      "outputs": [
        {
          "output_type": "execute_result",
          "data": {
            "text/plain": [
              "True"
            ]
          },
          "metadata": {},
          "execution_count": 122
        }
      ]
    },
    {
      "cell_type": "code",
      "source": [
        "# Respuesta\n",
        "\n",
        "for url in playlists_links:\n",
        "  print(url)\n",
        "  driver = webdriver.Chrome('chromedriver',options=options)\n",
        "  driver.get(url)\n",
        "  WebDriverWait(driver, 10).until(EC.presence_of_element_located((By.XPATH, \"//*[@id='main']/div/div[2]/div[3]/div[1]/div[2]/div[2]/div/div/div[2]/main/div/section/div[1]/div[5]/span/h1\")))\n",
        "  driver.execute_script(\"window.scrollTo(0, document.body.scrollHeight);\") \n",
        "  print(driver.find_element(By.XPATH, '//*[@id=\"main\"]/div/div[2]/div[3]/div[1]/div[2]/div[2]/div/div/div[2]/main/div/section/div[1]/div[5]/span/h1').text)\n",
        "  print(driver.find_element(By.XPATH, '//*[@id=\"main\"]/div/div[2]/div[3]/div[1]/div[2]/div[2]/div/div/div[2]/main/div/section/div[1]/div[5]/div/span[1]').text)\n",
        "  print(\"###\", end='\\n\\n')"
      ],
      "metadata": {
        "colab": {
          "base_uri": "https://localhost:8080/",
          "height": 565
        },
        "id": "A3DorDHZaw1M",
        "outputId": "41991608-0bdf-470f-c0ae-aad16513bd28"
      },
      "execution_count": null,
      "outputs": [
        {
          "output_type": "stream",
          "name": "stdout",
          "text": [
            "https://open.spotify.com/playlist/37i9dQZF1DWZgauS5j6pMv\n",
            "Nu-Funk\n",
            "273,175 likes\n",
            "###\n",
            "\n",
            "https://open.spotify.com/playlist/37i9dQZF1DWUcRrhkfhG22\n",
            "Robo-Funk\n",
            "27,250 likes\n",
            "###\n",
            "\n",
            "https://open.spotify.com/playlist/37i9dQZF1DXattPCMpISJh\n"
          ]
        },
        {
          "output_type": "error",
          "ename": "KeyboardInterrupt",
          "evalue": "ignored",
          "traceback": [
            "\u001b[0;31m---------------------------------------------------------------------------\u001b[0m",
            "\u001b[0;31mKeyboardInterrupt\u001b[0m                         Traceback (most recent call last)",
            "\u001b[0;32m<ipython-input-130-eca60954e61d>\u001b[0m in \u001b[0;36m<module>\u001b[0;34m\u001b[0m\n\u001b[1;32m      7\u001b[0m   \u001b[0mdriver\u001b[0m \u001b[0;34m=\u001b[0m \u001b[0mwebdriver\u001b[0m\u001b[0;34m.\u001b[0m\u001b[0mChrome\u001b[0m\u001b[0;34m(\u001b[0m\u001b[0;34m'chromedriver'\u001b[0m\u001b[0;34m,\u001b[0m\u001b[0moptions\u001b[0m\u001b[0;34m=\u001b[0m\u001b[0moptions\u001b[0m\u001b[0;34m)\u001b[0m\u001b[0;34m\u001b[0m\u001b[0;34m\u001b[0m\u001b[0m\n\u001b[1;32m      8\u001b[0m   \u001b[0mdriver\u001b[0m\u001b[0;34m.\u001b[0m\u001b[0mget\u001b[0m\u001b[0;34m(\u001b[0m\u001b[0murl\u001b[0m\u001b[0;34m)\u001b[0m\u001b[0;34m\u001b[0m\u001b[0;34m\u001b[0m\u001b[0m\n\u001b[0;32m----> 9\u001b[0;31m   \u001b[0mWebDriverWait\u001b[0m\u001b[0;34m(\u001b[0m\u001b[0mdriver\u001b[0m\u001b[0;34m,\u001b[0m \u001b[0;36m10\u001b[0m\u001b[0;34m)\u001b[0m\u001b[0;34m.\u001b[0m\u001b[0muntil\u001b[0m\u001b[0;34m(\u001b[0m\u001b[0mEC\u001b[0m\u001b[0;34m.\u001b[0m\u001b[0mpresence_of_element_located\u001b[0m\u001b[0;34m(\u001b[0m\u001b[0;34m(\u001b[0m\u001b[0mBy\u001b[0m\u001b[0;34m.\u001b[0m\u001b[0mXPATH\u001b[0m\u001b[0;34m,\u001b[0m \u001b[0;34m\"//*[@id='main']/div/div[2]/div[3]/div[1]/div[2]/div[2]/div/div/div[2]/main/div/section/div[1]/div[5]/span/h1\"\u001b[0m\u001b[0;34m)\u001b[0m\u001b[0;34m)\u001b[0m\u001b[0;34m)\u001b[0m\u001b[0;34m\u001b[0m\u001b[0;34m\u001b[0m\u001b[0m\n\u001b[0m\u001b[1;32m     10\u001b[0m   \u001b[0mdriver\u001b[0m\u001b[0;34m.\u001b[0m\u001b[0mexecute_script\u001b[0m\u001b[0;34m(\u001b[0m\u001b[0;34m\"window.scrollTo(0, document.body.scrollHeight);\"\u001b[0m\u001b[0;34m)\u001b[0m\u001b[0;34m\u001b[0m\u001b[0;34m\u001b[0m\u001b[0m\n\u001b[1;32m     11\u001b[0m   \u001b[0mprint\u001b[0m\u001b[0;34m(\u001b[0m\u001b[0mdriver\u001b[0m\u001b[0;34m.\u001b[0m\u001b[0mfind_element\u001b[0m\u001b[0;34m(\u001b[0m\u001b[0mBy\u001b[0m\u001b[0;34m.\u001b[0m\u001b[0mXPATH\u001b[0m\u001b[0;34m,\u001b[0m \u001b[0;34m'//*[@id=\"main\"]/div/div[2]/div[3]/div[1]/div[2]/div[2]/div/div/div[2]/main/div/section/div[1]/div[5]/span/h1'\u001b[0m\u001b[0;34m)\u001b[0m\u001b[0;34m.\u001b[0m\u001b[0mtext\u001b[0m\u001b[0;34m)\u001b[0m\u001b[0;34m\u001b[0m\u001b[0;34m\u001b[0m\u001b[0m\n",
            "\u001b[0;32m/usr/local/lib/python3.7/dist-packages/selenium/webdriver/support/wait.py\u001b[0m in \u001b[0;36muntil\u001b[0;34m(self, method, message)\u001b[0m\n\u001b[1;32m     85\u001b[0m                 \u001b[0mscreen\u001b[0m \u001b[0;34m=\u001b[0m \u001b[0mgetattr\u001b[0m\u001b[0;34m(\u001b[0m\u001b[0mexc\u001b[0m\u001b[0;34m,\u001b[0m \u001b[0;34m'screen'\u001b[0m\u001b[0;34m,\u001b[0m \u001b[0;32mNone\u001b[0m\u001b[0;34m)\u001b[0m\u001b[0;34m\u001b[0m\u001b[0;34m\u001b[0m\u001b[0m\n\u001b[1;32m     86\u001b[0m                 \u001b[0mstacktrace\u001b[0m \u001b[0;34m=\u001b[0m \u001b[0mgetattr\u001b[0m\u001b[0;34m(\u001b[0m\u001b[0mexc\u001b[0m\u001b[0;34m,\u001b[0m \u001b[0;34m'stacktrace'\u001b[0m\u001b[0;34m,\u001b[0m \u001b[0;32mNone\u001b[0m\u001b[0;34m)\u001b[0m\u001b[0;34m\u001b[0m\u001b[0;34m\u001b[0m\u001b[0m\n\u001b[0;32m---> 87\u001b[0;31m             \u001b[0mtime\u001b[0m\u001b[0;34m.\u001b[0m\u001b[0msleep\u001b[0m\u001b[0;34m(\u001b[0m\u001b[0mself\u001b[0m\u001b[0;34m.\u001b[0m\u001b[0m_poll\u001b[0m\u001b[0;34m)\u001b[0m\u001b[0;34m\u001b[0m\u001b[0;34m\u001b[0m\u001b[0m\n\u001b[0m\u001b[1;32m     88\u001b[0m             \u001b[0;32mif\u001b[0m \u001b[0mtime\u001b[0m\u001b[0;34m.\u001b[0m\u001b[0mmonotonic\u001b[0m\u001b[0;34m(\u001b[0m\u001b[0;34m)\u001b[0m \u001b[0;34m>\u001b[0m \u001b[0mend_time\u001b[0m\u001b[0;34m:\u001b[0m\u001b[0;34m\u001b[0m\u001b[0;34m\u001b[0m\u001b[0m\n\u001b[1;32m     89\u001b[0m                 \u001b[0;32mbreak\u001b[0m\u001b[0;34m\u001b[0m\u001b[0;34m\u001b[0m\u001b[0m\n",
            "\u001b[0;31mKeyboardInterrupt\u001b[0m: "
          ]
        }
      ]
    },
    {
      "cell_type": "markdown",
      "metadata": {
        "id": "BAJWTI1mVhsN"
      },
      "source": [
        "\n",
        "## Recursos útiles\n",
        "### videos\n",
        "\n",
        "* [Damian Sire: Videotutoriales de selenium con ejemplos de uso entretenidos](https://www.youtube.com/watch?v=iIYzkeQAgp8&list=PLVxN95ZVpcJsG8TQMozeOVBDkf7EYMuPz)\n",
        "* [Selenium FULL COURSE - Learn Selenium by creating a bot in 3 hours [2021]](https://youtu.be/6gxhcvrf2Jk)\n",
        "\n",
        "### Libros\n",
        "\n",
        "* [Web Scraping with Python, 2nd Edition](https://www.oreilly.com/library/view/web-scraping-with/9781491985564/)\n",
        "  * [Código asociado al libro](https://github.com/REMitchell/python-scraping)\n",
        "* [Hands-On Web Scraping with Python](https://www.amazon.com/Hands-Web-Scraping-Python-operations-ebook/dp/B07VFFYPGK)"
      ]
    }
  ],
  "metadata": {
    "colab": {
      "provenance": []
    },
    "instance_type": "ml.t3.medium",
    "kernelspec": {
      "display_name": "Python 3",
      "language": "python",
      "name": "python3"
    },
    "language_info": {
      "codemirror_mode": {
        "name": "ipython",
        "version": 3
      },
      "file_extension": ".py",
      "mimetype": "text/x-python",
      "name": "python",
      "nbconvert_exporter": "python",
      "pygments_lexer": "ipython3",
      "version": "3.8.8"
    }
  },
  "nbformat": 4,
  "nbformat_minor": 0
}