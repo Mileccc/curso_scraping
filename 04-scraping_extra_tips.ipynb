{
 "cells": [
  {
   "cell_type": "markdown",
   "metadata": {},
   "source": [
    "<a href=\"https://colab.research.google.com/github/institutohumai/cursos-python/blob/master/Scraping/2_HTTP_Avanzado/scraping_extra_tips.ipynb\" target=\"_parent\"><img src=\"https://colab.research.google.com/assets/colab-badge.svg\" alt=\"Open In Colab\" data-canonical-src=\"https://colab.research.google.com/assets/colab-badge.svg\"></a>"
   ]
  },
  {
   "cell_type": "markdown",
   "metadata": {},
   "source": [
    "# Tips para scrapear mejor\n",
    "\n",
    "- Scrapear multiples cosas al mismo tiempo: https://python-docs-es.readthedocs.io/es/3.8/library/multiprocessing.html"
   ]
  },
  {
   "cell_type": "code",
   "execution_count": 4,
   "metadata": {},
   "outputs": [
    {
     "name": "stdout",
     "output_type": "stream",
     "text": [
      "['http://numbersapi.com/1', 'http://numbersapi.com/2', 'http://numbersapi.com/3', 'http://numbersapi.com/4', 'http://numbersapi.com/5', 'http://numbersapi.com/6', 'http://numbersapi.com/7', 'http://numbersapi.com/8']\n"
     ]
    }
   ],
   "source": [
    "from multiprocessing import Pool\n",
    "\n",
    "from requests import get\n",
    "\n",
    "def bajar_datos(url):\n",
    "    return get(url).text\n",
    "\n",
    "# En este ejemplo intento bajar varios datos del sitio web numbersapi.com\n",
    "\n",
    "urls = [f\"http://numbersapi.com/{number}\" for number in [1,2,3,4,5,6,7,8]]\n",
    "print(urls)"
   ]
  },
  {
   "cell_type": "code",
   "execution_count": 5,
   "metadata": {},
   "outputs": [
    {
     "name": "stdout",
     "output_type": "stream",
     "text": [
      "1 is the loneliest number.\n",
      "2 is the number of polynucleotide strands in a DNA double helix.\n",
      "3 is number of performers in a trio.\n",
      "4 is the number of movements in a symphony.\n",
      "5 is the number of babies born in a quintuplet.\n",
      "6 is the number of orders of the Mishnah.\n",
      "7 is the number of periods, or horizontal rows of elements, in the periodic table.\n",
      "8 is the number of bits in a byte.\n"
     ]
    }
   ],
   "source": [
    "# De esta manera voy bajando los dato de a uno\n",
    "\n",
    "for url in urls:\n",
    "    resultado = bajar_datos(url)\n",
    "    print(resultado)"
   ]
  },
  {
   "cell_type": "code",
   "execution_count": 3,
   "metadata": {},
   "outputs": [],
   "source": [
    "# De esta manera hago todo al mismo tiempo, en paralelo\n",
    "\n",
    "with Pool(5) as p:\n",
    "    print(p.map(bajar_datos, urls))\n",
    "    \n",
    "# En jupiter notebook da problemas"
   ]
  },
  {
   "cell_type": "code",
   "execution_count": 1,
   "metadata": {},
   "outputs": [
    {
     "name": "stdout",
     "output_type": "stream",
     "text": [
      "['http://numbersapi.com/1', 'http://numbersapi.com/2', 'http://numbersapi.com/3', 'http://numbersapi.com/4', 'http://numbersapi.com/5', 'http://numbersapi.com/6', 'http://numbersapi.com/7', 'http://numbersapi.com/8']\n"
     ]
    }
   ],
   "source": [
    "from concurrent.futures import ThreadPoolExecutor\n",
    "from requests import get\n",
    "\n",
    "def bajar_datos(url):\n",
    "    return get(url).text\n",
    "\n",
    "# URLs a procesar\n",
    "urls = [f\"http://numbersapi.com/{number}\" for number in [1, 2, 3, 4, 5, 6, 7, 8]]\n",
    "print(urls)"
   ]
  },
  {
   "cell_type": "code",
   "execution_count": 2,
   "metadata": {},
   "outputs": [],
   "source": [
    "# Procesamiento en paralelo con ThreadPoolExecutor\n",
    "with ThreadPoolExecutor(max_workers=5) as executor:\n",
    "    resultados = list(executor.map(bajar_datos, urls))"
   ]
  },
  {
   "cell_type": "code",
   "execution_count": 3,
   "metadata": {},
   "outputs": [
    {
     "name": "stdout",
     "output_type": "stream",
     "text": [
      "1 is the number of Gods in monotheism.\n",
      "2 is the number of stars in a binary star system (a stellar system consisting of two stars orbiting around their center of mass).\n",
      "3 is number of performers in a trio.\n",
      "4 is the number of human blood groups (A, B, O, AB).\n",
      "5 is the number of appendages on most starfish, which exhibit pentamerism.\n",
      "6 is the number of strings on a standard guitar.\n",
      "7 is the number of periods, or horizontal rows of elements, in the periodic table.\n",
      "8 is the number of bits in a byte.\n"
     ]
    }
   ],
   "source": [
    "for resultado in resultados:\n",
    "    print(resultado)"
   ]
  },
  {
   "cell_type": "markdown",
   "metadata": {},
   "source": [
    "Una alternativa es multithreading: "
   ]
  },
  {
   "cell_type": "markdown",
   "metadata": {},
   "source": [
    "\n",
    "- Evitar que te bloqueen\n",
    "    - Rotacion de ip y useragent\n",
    "        - rotacion de userAgent: https://pypi.org/project/fake-useragent/\n",
    "        - smartproxy y https://github.com/mattes/rotating-proxy\n",
    "        \n",
    "    - A veces las cuentas premium las banean/bloquean menos, ya que son la fuente de dinero del sitio y son \"intocables\" (Ejemplo: Spotify)\n",
    "\n",
    "- Crear cuentas sin límites\n",
    "    - Registración con teléfono\n",
    "        - Teléfonos descartables (proovl y twilio)\n",
    "        - Reutilizar un mismo teléfono: +54/+549/11/15/011\n",
    "\n",
    "    - Registración con email\n",
    "        - Emails descartables\n",
    "        - Reutilizar un mismo mail: pedroperez@gmail.com/pedro.perez@gmail.com/...\n",
    "\n",
    "- [Resolver captchas](https://addons.mozilla.org/en-US/firefox/addon/recaptcha-solver/)\n",
    "\n",
    "- [Acceder a sitios viejos](http://web.archive.org/)\n",
    "\n"
   ]
  }
 ],
 "metadata": {
  "kernelspec": {
   "display_name": "Python 3",
   "language": "python",
   "name": "python3"
  },
  "language_info": {
   "codemirror_mode": {
    "name": "ipython",
    "version": 3
   },
   "file_extension": ".py",
   "mimetype": "text/x-python",
   "name": "python",
   "nbconvert_exporter": "python",
   "pygments_lexer": "ipython3",
   "version": "3.11.9"
  }
 },
 "nbformat": 4,
 "nbformat_minor": 4
}
