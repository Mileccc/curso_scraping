{
 "cells": [
  {
   "cell_type": "markdown",
   "metadata": {},
   "source": [
    "<a href=\"https://colab.research.google.com/github/institutohumai/cursos-python/blob/master/Scraping/2_HTTP_Avanzado/scraping_extra_tips.ipynb\" target=\"_parent\"><img src=\"https://colab.research.google.com/assets/colab-badge.svg\" alt=\"Open In Colab\" data-canonical-src=\"https://colab.research.google.com/assets/colab-badge.svg\"></a>"
   ]
  },
  {
   "cell_type": "markdown",
   "metadata": {},
   "source": [
    "# Tips para scrapear mejor\n",
    "\n",
    "- Scrapear multiples cosas al mismo tiempo: https://python-docs-es.readthedocs.io/es/3.8/library/multiprocessing.html"
   ]
  },
  {
   "cell_type": "code",
   "execution_count": 6,
   "metadata": {},
   "outputs": [
    {
     "name": "stdout",
     "output_type": "stream",
     "text": [
      "['http://numbersapi.com/1', 'http://numbersapi.com/2', 'http://numbersapi.com/3', 'http://numbersapi.com/4', 'http://numbersapi.com/5', 'http://numbersapi.com/6', 'http://numbersapi.com/7', 'http://numbersapi.com/8']\n"
     ]
    }
   ],
   "source": [
    "from multiprocessing import Pool\n",
    "\n",
    "from requests import get\n",
    "\n",
    "def bajar_datos(url):\n",
    "    return get(url).text\n",
    "\n",
    "# En este ejemplo intento bajar varios datos del sitio web numbersapi.com\n",
    "\n",
    "urls = [f\"http://numbersapi.com/{number}\" for number in [1,2,3,4,5,6,7,8]]\n",
    "print(urls)"
   ]
  },
  {
   "cell_type": "code",
   "execution_count": 7,
   "metadata": {},
   "outputs": [
    {
     "name": "stdout",
     "output_type": "stream",
     "text": [
      "1 is the loneliest number.\n",
      "2 is the price in cents per acre the USA bought Alaska from Russia.\n",
      "3 is the number of words or phrases in a Tripartite motto.\n",
      "4 is the maximal number of horses in one row for carriage.\n",
      "5 is the holy number of Discordianism, as dictated by the Law of Fives.\n",
      "6 is the number of feet below ground level a coffin is traditionally buried.\n",
      "7 is the number of main islands of mythological Atlantis.\n",
      "8 is the number of legs that arachnids have.\n"
     ]
    }
   ],
   "source": [
    "# De esta manera voy bajando los dato de a uno\n",
    "\n",
    "for url in urls:\n",
    "    resultado = bajar_datos(url)\n",
    "    print(resultado)"
   ]
  },
  {
   "cell_type": "code",
   "execution_count": 8,
   "metadata": {},
   "outputs": [
    {
     "name": "stdout",
     "output_type": "stream",
     "text": [
      "['1 is the number of dimensions of a line.', '2 is the number of stars in a binary star system (a stellar system consisting of two stars orbiting around their center of mass).', '3 is the cost in cents to make a $1 bill in the United States.', '4 is the number of bits in a nibble, equivalent to half a byte.', '5 is the number of babies born in a quintuplet.', '6 is the number of sides on a cube.', '7 is the number of days in a week.', '8 is the number of bits in a byte.']\n"
     ]
    }
   ],
   "source": [
    "# De esta manera hago todo al mismo tiempo, en paralelo\n",
    "\n",
    "with Pool(5) as p:\n",
    "    print(p.map(bajar_datos, urls))"
   ]
  },
  {
   "cell_type": "markdown",
   "metadata": {},
   "source": [
    "Una alternativa es multithreading: "
   ]
  },
  {
   "cell_type": "markdown",
   "metadata": {},
   "source": [
    "\n",
    "- Evitar que te bloqueen\n",
    "    - Rotacion de ip y useragent\n",
    "        - rotacion de userAgent: https://pypi.org/project/fake-useragent/\n",
    "        - smartproxy y https://github.com/mattes/rotating-proxy\n",
    "        \n",
    "    - A veces las cuentas premium las banean/bloquean menos, ya que son la fuente de dinero del sitio y son \"intocables\" (Ejemplo: Spotify)\n",
    "\n",
    "- Crear cuentas sin límites\n",
    "    - Registración con teléfono\n",
    "        - Teléfonos descartables (proovl y twilio)\n",
    "        - Reutilizar un mismo teléfono: +54/+549/11/15/011\n",
    "\n",
    "    - Registración con email\n",
    "        - Emails descartables\n",
    "        - Reutilizar un mismo mail: pedroperez@gmail.com/pedro.perez@gmail.com/...\n",
    "\n",
    "- [Resolver captchas](https://addons.mozilla.org/en-US/firefox/addon/recaptcha-solver/)\n",
    "\n",
    "- [Acceder a sitios viejos](http://web.archive.org/)\n",
    "\n"
   ]
  }
 ],
 "metadata": {
  "kernelspec": {
   "display_name": "Python 3",
   "language": "python",
   "name": "python3"
  },
  "language_info": {
   "codemirror_mode": {
    "name": "ipython",
    "version": 3
   },
   "file_extension": ".py",
   "mimetype": "text/x-python",
   "name": "python",
   "nbconvert_exporter": "python",
   "pygments_lexer": "ipython3",
   "version": "3.8.8"
  }
 },
 "nbformat": 4,
 "nbformat_minor": 4
}
