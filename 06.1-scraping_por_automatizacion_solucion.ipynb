{
  "cells": [
    {
      "cell_type": "markdown",
      "metadata": {
        "id": "tXugTXVog58V"
      },
      "source": [
        "<a href=\"https://colab.research.google.com/github/institutohumai/cursos-python/blob/auto/Scraping/3_Selenium_y_xpath/scraping_por_automatizacion.ipynb\" target=\"_parent\"><img src=\"https://colab.research.google.com/assets/colab-badge.svg\" alt=\"Open In Colab\" data-canonical-src=\"https://colab.research.google.com/assets/colab-badge.svg\"></a>"
      ]
    },
    {
      "cell_type": "markdown",
      "metadata": {
        "id": "sMvL5m3GVuK-"
      },
      "source": [
        "# Scraping por Automatización con Selenium"
      ]
    },
    {
      "cell_type": "markdown",
      "metadata": {
        "id": "YhLG1LMEVhr9"
      },
      "source": [
        "## **XPath (XML Path Language)**\n",
        "\n",
        "Un selector muy utilizado es el [**Xpath**](https://es.wikipedia.org/wiki/XPath), basado en un lenguaje diseñado para localizar elementos en un archivo XML o HTML.\n",
        "\n",
        "Es una manera de recorrer un árbol como por ejemplo el DOM (*document object model*).\n",
        "\n",
        "Por ejempllo si vamos a la [página del Instituto Humai](https://ihum.ai/) y presionamos `f12` veremos esto:\n",
        "\n",
        "<img src=\"https://i.ibb.co/cNM04jP/copy-xpath.png\" alt=\"copy-xpath\" width=\"1000\">\n",
        "\n",
        "Existen dos maneras de acceder a un elemento usando Xpath:\n",
        "\n",
        "### XPath absoluto\n",
        "* Contiene la ruta completa desde el elemento raiz hasta el elemento de interes. <br> Ejemplo: `/html/body/section[2]/div[2]/a[2]/div/div[1]/img`\n",
        "  * Contra: Cualquier cambio en la ruta del elemento hace que ya no se acceda de esa forma.\n",
        "\n",
        "### XPath relativo\n",
        "* Comienza haciendo referencia al elemento que queremos ubicar en relación con una ubicación particular. Esto significa que el elemento está posicionado con relación a su posición normal. <br> Ejemplo: \n",
        "`//*[@id=\"que-hacemos-a-tag\"]/div/div[1]/img`\n",
        "  * Cualquier cambio en el diseño de la página o la jerarquía DOM tendrá un impacto mínimo (o nulo) en el selector XPath existente.\n",
        "  * Su estructura básica es la siguiente: <br>\n",
        "  <font size=6>\n",
        "  <center>\n",
        "  <font color='red'>//</font><font color='blue'>nombreDelTag</font>[@<font color='green'>Atributo</font>=<font color='purple'>\"valor\"</font>]\n",
        "</center>\n",
        "<font>\n",
        "\n",
        "### Seleccion de nodos desconocidos\n",
        "\n",
        "* El asterisco (**\\***) o *wildcard* sirve como reemplazo para el nombre del tag, funcionando como comodín para cualquiera de ellos. <br>\n",
        "Ejemplo: `//*[@id=\"soy_un_div\"]`\n",
        "\n",
        "\n",
        "* El arroba seguido de asterisco (**\\@***) *matchea* cualquier atributo de un elemento. <br>\n",
        "Ejemplo: `//h2[@*=\"soy_un_subtitulo\"]`\n",
        "\n",
        "### Algunas funciones\n",
        "\n",
        "* `contains()` permite ver si un elemento contiene una *string* en particular. No es necesario que sea match exacto, sino que forme parte de la *string*.<br>\n",
        "Ejemplo: `//div[contains(@class,\"que\")]`\n",
        "\n",
        "* ` text() ` nos permite obtener un elemento en base al texto que tiene dentro del tag <br>\n",
        "Ejemplo: `//*[text()=\"SABER MÁS\"]`\n",
        "\n",
        "Tambien los podriamos usar juntos: `//*[contains(text(),\"SABER\")]` 🤯\n",
        "\n",
        "\n",
        "\n",
        "\n",
        "**Hay mucho mucho más!** <br>\n",
        "\n",
        "Xpath cheatsheet super completa: https://www.lambdatest.com/blog/most-exhaustive-xpath-locators-cheat-sheet/\n",
        "\n"
      ]
    },
    {
      "cell_type": "markdown",
      "metadata": {
        "id": "IlqNHdOqVhr3"
      },
      "source": [
        "## **Robots que controlan nuestro navegador** 🦾\n",
        "\n",
        "A veces los sitios webs tienen ciertas características que hacen que los métodos que venimos utilizando no funcionen.\n",
        "\n",
        "En esos casos uno puede intentar desarrollar una especie de robot que controle nuestro navegador interactuando con internet de igual forma que lo hace un humano. Hay una herramienta llamada __Selenium__ que puede utilizarse exactamente para eso.\n",
        "\n",
        "\n",
        "### ¿Como se hace para programar un robot para que utilice un sitio web?\n",
        "\n",
        "Lo principal es saber como localizar un elemento en la pagina.\n",
        "Selenium nos permite hacerlo de diversas formas (id, tag, clase, selector de CSS, etc)"
      ]
    },
    {
      "cell_type": "markdown",
      "metadata": {
        "id": "yjduskN_aU8C"
      },
      "source": [
        "## **Web scraping avanzado con Selenium**\n",
        "\n",
        "<img src=\"https://selenium-python.readthedocs.io/_static/logo.png\" alt=\"selenium-logo\">\n",
        "\n",
        "### ¿Qué es Selenium?\n",
        "* Es una herramienta de testing y automatización que tiene una API para Python (entre otros lenguajes)\n",
        "\n",
        "* No fue pensado específicamente para web scraping ni web crawling, pero gracias al sistema cliente/servidor Web Driver permite utilizar un navegador de forma local o en remoto.\n",
        "Esto nos da acceso a un navegador con el que podemos recorrer la web.\n",
        "\n",
        "### ¿En qué casos podria resultarnos util?\n",
        "* Páginas dinámicas (por ej: [AJAX](https://developer.mozilla.org/es/docs/Web/Guide/AJAX), [lazy loading](https://developer.mozilla.org/en-US/docs/Web/Performance/Lazy_loading))\n",
        "* Scrolleo infinito\n",
        "* Completar formularios, autenticación, pop ups, manejo de sesiones, ¿captchas?,  etc  ...\n",
        "\n",
        "* va a permitirnos recorrer internet con un navegador \"virtual\", permitiéndonos hacer click, scroll, etc.\n",
        "\n",
        "* En Google Colab solo podremos usarlo sin interfaz grafica (*headless*).\n",
        "\n",
        "\n",
        "Si podemos ver esa informacion en el navegador, deberiamos poder *scrapearla*.\n",
        "\n",
        "- Documentacion oficial: https://www.selenium.dev/documentation/\n",
        "- Documentacion no oficial pero recomendada: https://selenium-python.readthedocs.io/\n",
        "\n"
      ]
    },
    {
      "cell_type": "markdown",
      "metadata": {
        "id": "pRcpDhKurGsk"
      },
      "source": [
        "## **Hola mundo con Selenium: Buscar en google**\n",
        "\n",
        "Veamos un poco como se usa esta nueva herramienta.\n",
        "\n",
        "La base de Selenium (y un poco del web scraping en general) es la selección de elementos en la web. Para esto nos provee varios métodos:\n",
        "\n",
        "\n",
        "Para aprender más: https://selenium-python.readthedocs.io/locating-elements.html"
      ]
    },
    {
      "cell_type": "markdown",
      "metadata": {
        "id": "ZM1uR67U102y"
      },
      "source": [
        "### Instalación y configuración"
      ]
    },
    {
      "cell_type": "code",
      "execution_count": 1,
      "metadata": {},
      "outputs": [
        {
          "name": "stdout",
          "output_type": "stream",
          "text": [
            "Collecting selenium\n",
            "  Downloading selenium-4.22.0-py3-none-any.whl.metadata (7.0 kB)\n",
            "Requirement already satisfied: urllib3<3,>=1.26 in d:\\proyecto_holagrama_ia\\curso_webscrapping\\env\\lib\\site-packages (from urllib3[socks]<3,>=1.26->selenium) (2.2.2)\n",
            "Collecting trio~=0.17 (from selenium)\n",
            "  Using cached trio-0.25.1-py3-none-any.whl.metadata (8.7 kB)\n",
            "Collecting trio-websocket~=0.9 (from selenium)\n",
            "  Using cached trio_websocket-0.11.1-py3-none-any.whl.metadata (4.7 kB)\n",
            "Requirement already satisfied: certifi>=2021.10.8 in d:\\proyecto_holagrama_ia\\curso_webscrapping\\env\\lib\\site-packages (from selenium) (2024.6.2)\n",
            "Requirement already satisfied: typing_extensions>=4.9.0 in d:\\proyecto_holagrama_ia\\curso_webscrapping\\env\\lib\\site-packages (from selenium) (4.12.2)\n",
            "Collecting websocket-client>=1.8.0 (from selenium)\n",
            "  Using cached websocket_client-1.8.0-py3-none-any.whl.metadata (8.0 kB)\n",
            "Collecting attrs>=23.2.0 (from trio~=0.17->selenium)\n",
            "  Using cached attrs-23.2.0-py3-none-any.whl.metadata (9.5 kB)\n",
            "Collecting sortedcontainers (from trio~=0.17->selenium)\n",
            "  Using cached sortedcontainers-2.4.0-py2.py3-none-any.whl.metadata (10 kB)\n",
            "Requirement already satisfied: idna in d:\\proyecto_holagrama_ia\\curso_webscrapping\\env\\lib\\site-packages (from trio~=0.17->selenium) (3.7)\n",
            "Collecting outcome (from trio~=0.17->selenium)\n",
            "  Using cached outcome-1.3.0.post0-py2.py3-none-any.whl.metadata (2.6 kB)\n",
            "Collecting sniffio>=1.3.0 (from trio~=0.17->selenium)\n",
            "  Using cached sniffio-1.3.1-py3-none-any.whl.metadata (3.9 kB)\n",
            "Collecting cffi>=1.14 (from trio~=0.17->selenium)\n",
            "  Using cached cffi-1.16.0-cp311-cp311-win_amd64.whl.metadata (1.5 kB)\n",
            "Collecting wsproto>=0.14 (from trio-websocket~=0.9->selenium)\n",
            "  Using cached wsproto-1.2.0-py3-none-any.whl.metadata (5.6 kB)\n",
            "Collecting pysocks!=1.5.7,<2.0,>=1.5.6 (from urllib3[socks]<3,>=1.26->selenium)\n",
            "  Using cached PySocks-1.7.1-py3-none-any.whl.metadata (13 kB)\n",
            "Collecting pycparser (from cffi>=1.14->trio~=0.17->selenium)\n",
            "  Using cached pycparser-2.22-py3-none-any.whl.metadata (943 bytes)\n",
            "Collecting h11<1,>=0.9.0 (from wsproto>=0.14->trio-websocket~=0.9->selenium)\n",
            "  Using cached h11-0.14.0-py3-none-any.whl.metadata (8.2 kB)\n",
            "Downloading selenium-4.22.0-py3-none-any.whl (9.4 MB)\n",
            "   ---------------------------------------- 0.0/9.4 MB ? eta -:--:--\n",
            "   ---------------------------------------- 0.0/9.4 MB 1.4 MB/s eta 0:00:07\n",
            "   - -------------------------------------- 0.4/9.4 MB 6.4 MB/s eta 0:00:02\n",
            "   ---- ----------------------------------- 1.0/9.4 MB 9.1 MB/s eta 0:00:01\n",
            "   ------- -------------------------------- 1.7/9.4 MB 11.0 MB/s eta 0:00:01\n",
            "   ----------- ---------------------------- 2.7/9.4 MB 13.1 MB/s eta 0:00:01\n",
            "   ---------------- ----------------------- 3.8/9.4 MB 15.3 MB/s eta 0:00:01\n",
            "   ---------------------- ----------------- 5.3/9.4 MB 17.8 MB/s eta 0:00:01\n",
            "   ------------------------------ --------- 7.2/9.4 MB 20.8 MB/s eta 0:00:01\n",
            "   ----------------------------------- ---- 8.3/9.4 MB 22.0 MB/s eta 0:00:01\n",
            "   ---------------------------------------  9.4/9.4 MB 23.2 MB/s eta 0:00:01\n",
            "   ---------------------------------------- 9.4/9.4 MB 21.6 MB/s eta 0:00:00\n",
            "Using cached trio-0.25.1-py3-none-any.whl (467 kB)\n",
            "Using cached trio_websocket-0.11.1-py3-none-any.whl (17 kB)\n",
            "Using cached websocket_client-1.8.0-py3-none-any.whl (58 kB)\n",
            "Using cached attrs-23.2.0-py3-none-any.whl (60 kB)\n",
            "Using cached cffi-1.16.0-cp311-cp311-win_amd64.whl (181 kB)\n",
            "Using cached PySocks-1.7.1-py3-none-any.whl (16 kB)\n",
            "Using cached sniffio-1.3.1-py3-none-any.whl (10 kB)\n",
            "Using cached wsproto-1.2.0-py3-none-any.whl (24 kB)\n",
            "Using cached outcome-1.3.0.post0-py2.py3-none-any.whl (10 kB)\n",
            "Using cached sortedcontainers-2.4.0-py2.py3-none-any.whl (29 kB)\n",
            "Using cached h11-0.14.0-py3-none-any.whl (58 kB)\n",
            "Using cached pycparser-2.22-py3-none-any.whl (117 kB)\n",
            "Installing collected packages: sortedcontainers, websocket-client, sniffio, pysocks, pycparser, h11, attrs, wsproto, outcome, cffi, trio, trio-websocket, selenium\n",
            "Successfully installed attrs-23.2.0 cffi-1.16.0 h11-0.14.0 outcome-1.3.0.post0 pycparser-2.22 pysocks-1.7.1 selenium-4.22.0 sniffio-1.3.1 sortedcontainers-2.4.0 trio-0.25.1 trio-websocket-0.11.1 websocket-client-1.8.0 wsproto-1.2.0\n"
          ]
        },
        {
          "name": "stderr",
          "output_type": "stream",
          "text": [
            "\"apt-get\" no se reconoce como un comando interno o externo,\n",
            "programa o archivo por lotes ejecutable.\n",
            "\"apt\" no se reconoce como un comando interno o externo,\n",
            "programa o archivo por lotes ejecutable.\n"
          ]
        }
      ],
      "source": [
        "# Ver https://stackoverflow.com/questions/51046454/how-can-we-use-selenium-webdriver-in-colab-research-google-com\n",
        "\n",
        "# Instalación de dependencias en la compu que nos presta Google\n",
        "!pip install selenium\n",
        "!apt-get update \n",
        "!apt install chromium-chromedriver -q"
      ]
    },
    {
      "cell_type": "code",
      "execution_count": 19,
      "metadata": {
        "colab": {
          "base_uri": "https://localhost:8080/"
        },
        "id": "gB435MUYWWYG",
        "outputId": "19ef6869-b5a4-40ba-808c-a1acc2f94a75"
      },
      "outputs": [],
      "source": [
        "\n",
        "\n",
        "from selenium import webdriver\n",
        "\n",
        "from selenium.webdriver.support.wait import WebDriverWait  # esto nos permite generar esperas\n",
        "from selenium.webdriver.support import expected_conditions as EC  # esto nos permite esperar hasta que algo suceda\n",
        "from selenium.webdriver.support.select import Select\n",
        "\n",
        "from selenium.webdriver.common.keys import Keys  # esto nos permite acceder a teclas de accion\n",
        "from selenium.webdriver.common.by import By  # esto nos permite elegir el tipo de selector (css, xpath...)\n",
        "\n",
        "# estos imports son solo para el driver de Chrome\n",
        "from selenium.webdriver.chrome.service import Service\n",
        "from selenium.webdriver.chrome.options import Options\n",
        "from selenium.webdriver.common.action_chains import ActionChains\n",
        "import time"
      ]
    },
    {
      "cell_type": "markdown",
      "metadata": {},
      "source": [
        "### Configurando el navegador sin interfaz gráfica que usaremos"
      ]
    },
    {
      "cell_type": "code",
      "execution_count": 20,
      "metadata": {},
      "outputs": [],
      "source": [
        "# # Configuramos las opciones del navegador\n",
        "# options = Options()\n",
        "# options.add_argument('--headless')  # sin interfaz gráfica\n",
        "# # options.add_argument('--no-sandbox')  # Seguridad (solo necesario en Linux)\n",
        "# # options.add_argument('--disable-dev-shm-usage')  # configuración de Linux\n",
        "# options.add_argument('--disable-gpu')\n",
        "# options.add_argument('--user-agent=\"Mozilla/5.0 (Windows NT 10.0; Win64; x64) AppleWebKit/537.36 (KHTML, like Gecko) Chrome/74.0.3729.157 Safari/537.36\"')\n",
        "# Configuramos las opciones del navegador\n",
        "options = Options()\n",
        "options.add_argument('--headless')  # sin interfaz gráfica (opcional)\n",
        "options.add_argument('--disable-gpu')\n",
        "options.add_argument('--window-size=1920x1080')\n",
        "options.add_argument('--user-agent=\"Mozilla/5.0 (Windows NT 10.0; Win64; x64) AppleWebKit/537.36 (KHTML, like Gecko) Chrome/74.0.3729.157 Safari/537.36\"')"
      ]
    },
    {
      "cell_type": "markdown",
      "metadata": {},
      "source": [
        "### Creando una instancia del Navegador(Uasando el drive de Chrome)"
      ]
    },
    {
      "cell_type": "code",
      "execution_count": 22,
      "metadata": {},
      "outputs": [],
      "source": [
        "# # Configuramos el web driver\n",
        "# driver = webdriver.Chrome(service=Service(),options=options)\n",
        "# driver.quit() # con .quit() cerramos el navegador y apagamos el driver\n",
        "# Ruta al chromedriver en Windows (asegúrate de que el chromedriver.exe está en el PATH o proporciona la ruta completa)\n",
        "webdriver_service = Service('D:/Programas/chrome-win64/chromedriver-win64/chromedriver.exe')  # reemplaza 'path/to/chromedriver' con la ruta real\n",
        "# Crear una instancia del WebDriver\n",
        "wd = webdriver.Chrome(service=webdriver_service, options=options)"
      ]
    },
    {
      "cell_type": "markdown",
      "metadata": {},
      "source": [
        "### Haciendo una búsqueda en google"
      ]
    },
    {
      "cell_type": "code",
      "execution_count": 23,
      "metadata": {},
      "outputs": [
        {
          "ename": "ElementNotInteractableException",
          "evalue": "Message: element not interactable\n  (Session info: chrome-headless-shell=126.0.6478.115)\nStacktrace:\n\tGetHandleVerifier [0x00007FF607703E32+31618]\n\t(No symbol) [0x00007FF60767B099]\n\t(No symbol) [0x00007FF6075386B9]\n\t(No symbol) [0x00007FF607581E73]\n\t(No symbol) [0x00007FF607580031]\n\t(No symbol) [0x00007FF6075AD10A]\n\t(No symbol) [0x00007FF60757BBA6]\n\t(No symbol) [0x00007FF6075AD320]\n\t(No symbol) [0x00007FF6075CCA80]\n\t(No symbol) [0x00007FF6075ACEB3]\n\t(No symbol) [0x00007FF60757A46B]\n\t(No symbol) [0x00007FF60757B001]\n\tGetHandleVerifier [0x00007FF607A09FFD+3202381]\n\tGetHandleVerifier [0x00007FF607A56A1D+3516269]\n\tGetHandleVerifier [0x00007FF607A4C490+3473888]\n\tGetHandleVerifier [0x00007FF6077B5D36+760454]\n\t(No symbol) [0x00007FF607686B3F]\n\t(No symbol) [0x00007FF607681CD4]\n\t(No symbol) [0x00007FF607681E62]\n\t(No symbol) [0x00007FF60767120F]\n\tBaseThreadInitThunk [0x00007FFDE7867344+20]\n\tRtlUserThreadStart [0x00007FFDE8CFCC91+33]\n",
          "output_type": "error",
          "traceback": [
            "\u001b[1;31m---------------------------------------------------------------------------\u001b[0m",
            "\u001b[1;31mElementNotInteractableException\u001b[0m           Traceback (most recent call last)",
            "\u001b[1;32md:\\Proyecto_holagrama_IA\\curso_webscrapping\\06.1-scraping_por_automatizacion_solucion.ipynb Cell 15\u001b[0m line \u001b[0;36m3\n\u001b[0;32m     <a href='vscode-notebook-cell:/d%3A/Proyecto_holagrama_IA/curso_webscrapping/06.1-scraping_por_automatizacion_solucion.ipynb#Y113sZmlsZQ%3D%3D?line=34'>35</a>\u001b[0m search_box \u001b[39m=\u001b[39m WebDriverWait(wd, \u001b[39m10\u001b[39m)\u001b[39m.\u001b[39muntil(EC\u001b[39m.\u001b[39melement_to_be_clickable((By\u001b[39m.\u001b[39mNAME, \u001b[39m\"\u001b[39m\u001b[39mq\u001b[39m\u001b[39m\"\u001b[39m)))\n\u001b[0;32m     <a href='vscode-notebook-cell:/d%3A/Proyecto_holagrama_IA/curso_webscrapping/06.1-scraping_por_automatizacion_solucion.ipynb#Y113sZmlsZQ%3D%3D?line=36'>37</a>\u001b[0m \u001b[39m# Enviar las teclas de búsqueda\u001b[39;00m\n\u001b[1;32m---> <a href='vscode-notebook-cell:/d%3A/Proyecto_holagrama_IA/curso_webscrapping/06.1-scraping_por_automatizacion_solucion.ipynb#Y113sZmlsZQ%3D%3D?line=37'>38</a>\u001b[0m search_box\u001b[39m.\u001b[39;49msend_keys(\u001b[39m\"\u001b[39;49m\u001b[39mhumai inteligencia artificial\u001b[39;49m\u001b[39m\"\u001b[39;49m \u001b[39m+\u001b[39;49m Keys\u001b[39m.\u001b[39;49mENTER)\n\u001b[0;32m     <a href='vscode-notebook-cell:/d%3A/Proyecto_holagrama_IA/curso_webscrapping/06.1-scraping_por_automatizacion_solucion.ipynb#Y113sZmlsZQ%3D%3D?line=39'>40</a>\u001b[0m \u001b[39m# Esperar a que los resultados se carguen\u001b[39;00m\n\u001b[0;32m     <a href='vscode-notebook-cell:/d%3A/Proyecto_holagrama_IA/curso_webscrapping/06.1-scraping_por_automatizacion_solucion.ipynb#Y113sZmlsZQ%3D%3D?line=40'>41</a>\u001b[0m WebDriverWait(wd, \u001b[39m10\u001b[39m)\u001b[39m.\u001b[39muntil(EC\u001b[39m.\u001b[39mpresence_of_element_located((By\u001b[39m.\u001b[39mID, \u001b[39m\"\u001b[39m\u001b[39msearch\u001b[39m\u001b[39m\"\u001b[39m)))\n",
            "File \u001b[1;32md:\\Proyecto_holagrama_IA\\curso_webscrapping\\env\\Lib\\site-packages\\selenium\\webdriver\\remote\\webelement.py:231\u001b[0m, in \u001b[0;36mWebElement.send_keys\u001b[1;34m(self, *value)\u001b[0m\n\u001b[0;32m    228\u001b[0m             remote_files\u001b[39m.\u001b[39mappend(\u001b[39mself\u001b[39m\u001b[39m.\u001b[39m_upload(file))\n\u001b[0;32m    229\u001b[0m         value \u001b[39m=\u001b[39m \u001b[39m\"\u001b[39m\u001b[39m\\n\u001b[39;00m\u001b[39m\"\u001b[39m\u001b[39m.\u001b[39mjoin(remote_files)\n\u001b[1;32m--> 231\u001b[0m \u001b[39mself\u001b[39;49m\u001b[39m.\u001b[39;49m_execute(\n\u001b[0;32m    232\u001b[0m     Command\u001b[39m.\u001b[39;49mSEND_KEYS_TO_ELEMENT, {\u001b[39m\"\u001b[39;49m\u001b[39mtext\u001b[39;49m\u001b[39m\"\u001b[39;49m: \u001b[39m\"\u001b[39;49m\u001b[39m\"\u001b[39;49m\u001b[39m.\u001b[39;49mjoin(keys_to_typing(value)), \u001b[39m\"\u001b[39;49m\u001b[39mvalue\u001b[39;49m\u001b[39m\"\u001b[39;49m: keys_to_typing(value)}\n\u001b[0;32m    233\u001b[0m )\n",
            "File \u001b[1;32md:\\Proyecto_holagrama_IA\\curso_webscrapping\\env\\Lib\\site-packages\\selenium\\webdriver\\remote\\webelement.py:395\u001b[0m, in \u001b[0;36mWebElement._execute\u001b[1;34m(self, command, params)\u001b[0m\n\u001b[0;32m    393\u001b[0m     params \u001b[39m=\u001b[39m {}\n\u001b[0;32m    394\u001b[0m params[\u001b[39m\"\u001b[39m\u001b[39mid\u001b[39m\u001b[39m\"\u001b[39m] \u001b[39m=\u001b[39m \u001b[39mself\u001b[39m\u001b[39m.\u001b[39m_id\n\u001b[1;32m--> 395\u001b[0m \u001b[39mreturn\u001b[39;00m \u001b[39mself\u001b[39;49m\u001b[39m.\u001b[39;49m_parent\u001b[39m.\u001b[39;49mexecute(command, params)\n",
            "File \u001b[1;32md:\\Proyecto_holagrama_IA\\curso_webscrapping\\env\\Lib\\site-packages\\selenium\\webdriver\\remote\\webdriver.py:354\u001b[0m, in \u001b[0;36mWebDriver.execute\u001b[1;34m(self, driver_command, params)\u001b[0m\n\u001b[0;32m    352\u001b[0m response \u001b[39m=\u001b[39m \u001b[39mself\u001b[39m\u001b[39m.\u001b[39mcommand_executor\u001b[39m.\u001b[39mexecute(driver_command, params)\n\u001b[0;32m    353\u001b[0m \u001b[39mif\u001b[39;00m response:\n\u001b[1;32m--> 354\u001b[0m     \u001b[39mself\u001b[39;49m\u001b[39m.\u001b[39;49merror_handler\u001b[39m.\u001b[39;49mcheck_response(response)\n\u001b[0;32m    355\u001b[0m     response[\u001b[39m\"\u001b[39m\u001b[39mvalue\u001b[39m\u001b[39m\"\u001b[39m] \u001b[39m=\u001b[39m \u001b[39mself\u001b[39m\u001b[39m.\u001b[39m_unwrap_value(response\u001b[39m.\u001b[39mget(\u001b[39m\"\u001b[39m\u001b[39mvalue\u001b[39m\u001b[39m\"\u001b[39m, \u001b[39mNone\u001b[39;00m))\n\u001b[0;32m    356\u001b[0m     \u001b[39mreturn\u001b[39;00m response\n",
            "File \u001b[1;32md:\\Proyecto_holagrama_IA\\curso_webscrapping\\env\\Lib\\site-packages\\selenium\\webdriver\\remote\\errorhandler.py:229\u001b[0m, in \u001b[0;36mErrorHandler.check_response\u001b[1;34m(self, response)\u001b[0m\n\u001b[0;32m    227\u001b[0m         alert_text \u001b[39m=\u001b[39m value[\u001b[39m\"\u001b[39m\u001b[39malert\u001b[39m\u001b[39m\"\u001b[39m]\u001b[39m.\u001b[39mget(\u001b[39m\"\u001b[39m\u001b[39mtext\u001b[39m\u001b[39m\"\u001b[39m)\n\u001b[0;32m    228\u001b[0m     \u001b[39mraise\u001b[39;00m exception_class(message, screen, stacktrace, alert_text)  \u001b[39m# type: ignore[call-arg]  # mypy is not smart enough here\u001b[39;00m\n\u001b[1;32m--> 229\u001b[0m \u001b[39mraise\u001b[39;00m exception_class(message, screen, stacktrace)\n",
            "\u001b[1;31mElementNotInteractableException\u001b[0m: Message: element not interactable\n  (Session info: chrome-headless-shell=126.0.6478.115)\nStacktrace:\n\tGetHandleVerifier [0x00007FF607703E32+31618]\n\t(No symbol) [0x00007FF60767B099]\n\t(No symbol) [0x00007FF6075386B9]\n\t(No symbol) [0x00007FF607581E73]\n\t(No symbol) [0x00007FF607580031]\n\t(No symbol) [0x00007FF6075AD10A]\n\t(No symbol) [0x00007FF60757BBA6]\n\t(No symbol) [0x00007FF6075AD320]\n\t(No symbol) [0x00007FF6075CCA80]\n\t(No symbol) [0x00007FF6075ACEB3]\n\t(No symbol) [0x00007FF60757A46B]\n\t(No symbol) [0x00007FF60757B001]\n\tGetHandleVerifier [0x00007FF607A09FFD+3202381]\n\tGetHandleVerifier [0x00007FF607A56A1D+3516269]\n\tGetHandleVerifier [0x00007FF607A4C490+3473888]\n\tGetHandleVerifier [0x00007FF6077B5D36+760454]\n\t(No symbol) [0x00007FF607686B3F]\n\t(No symbol) [0x00007FF607681CD4]\n\t(No symbol) [0x00007FF607681E62]\n\t(No symbol) [0x00007FF60767120F]\n\tBaseThreadInitThunk [0x00007FFDE7867344+20]\n\tRtlUserThreadStart [0x00007FFDE8CFCC91+33]\n"
          ]
        }
      ],
      "source": [
        "\n",
        "# # Configuramos el web driver\n",
        "# wd = webdriver.Chrome(service=Service(), options=options)\n",
        "\n",
        "# # Probemos buscando en google automágicamente\n",
        "# url = \"https://www.google.com/\"\n",
        "# wd.get(url)\n",
        "\n",
        "# # Aca lo que hacemos es usar las funciones de `expected conditions` para no clickear hasta que se haya cargado el elemento\n",
        "# # WebDriverWait(wd, 10).until(EC.element_to_be_clickable((By.XPATH, \"//*[@id='APjFqb']\")))\n",
        "# # WebDriverWait(wd, 20).until(EC.visibility_of_element_located((By.XPATH, \"//*[@id='APjFqb']\")))\n",
        "# search_box = WebDriverWait(wd, 20).until(EC.element_to_be_clickable((By.XPATH, \"//*[@id='APjFqb']\")))\n",
        "\n",
        "# # input = wd.find_element(By.XPATH, \"//*[@id='APjFqb']\")\n",
        "# # input.send_keys(\"humai inteligencia artificial\" + Keys.ENTER)\n",
        "# # Mover el ratón al elemento antes de interactuar\n",
        "# # input = wd.find_element(By.XPATH, \"//*[@id='APjFqb']\")\n",
        "# # ActionChains(wd).move_to_element(input).perform()\n",
        "# # input.send_keys(\"humai inteligencia artificial\" + Keys.ENTER)\n",
        "\n",
        "# # Hacer clic en el elemento para asegurarse de que está interactuable\n",
        "# search_box.click()\n",
        "# time.wait(2)\n",
        "# # Enviar las teclas al elemento\n",
        "# search_box.send_keys(\"humai inteligencia artificial\" + Keys.ENTER)\n",
        "# time.wait(2)\n",
        "# # tomemos un screenshot, REVISA EL SCREENSHOT EN 📁 en el panel de la izquierda\n",
        "# wd.save_screenshot('screenshot_google.png')\n",
        "\n",
        "# wd.close()\n",
        "# Navegar a Google\n",
        "url = \"https://www.google.com/\"\n",
        "wd.get(url)\n",
        "\n",
        "# Esperar a que la caja de búsqueda esté visible y sea interactuable\n",
        "search_box = WebDriverWait(wd, 10).until(EC.element_to_be_clickable((By.NAME, \"q\")))\n",
        "\n",
        "# Enviar las teclas de búsqueda\n",
        "search_box.send_keys(\"humai inteligencia artificial\" + Keys.ENTER)\n",
        "\n",
        "# Esperar a que los resultados se carguen\n",
        "WebDriverWait(wd, 10).until(EC.presence_of_element_located((By.ID, \"search\")))\n",
        "\n",
        "# Tomar una captura de pantalla\n",
        "wd.save_screenshot('screenshot_google.png')\n",
        "\n",
        "# Cerrar el WebDriver\n",
        "wd.quit()\n"
      ]
    },
    {
      "cell_type": "code",
      "execution_count": null,
      "metadata": {
        "id": "jWrStt6NBTN6"
      },
      "outputs": [],
      "source": [
        "\n",
        "\n",
        "\n",
        "# Probemos buscando en google automágicamente\n",
        "url = \"https://www.google.com/\" \n",
        "wd.get(url)\n",
        "WebDriverWait(wd, 10).until(EC.element_to_be_clickable((By.XPATH, \"//input[@name='q']\")))\n",
        "\n",
        "input = wd.find_element(By.XPATH, \"//input[@name='q']\")\n",
        "\n",
        "input.send_keys(\"humai inteligencia artificial\" + Keys.ENTER)\n",
        "\n"
      ]
    },
    {
      "cell_type": "code",
      "execution_count": null,
      "metadata": {
        "colab": {
          "base_uri": "https://localhost:8080/"
        },
        "id": "xe9Ju-KaFKuN",
        "outputId": "a56b5cc7-0eb9-4e9f-9f7f-e7392d0b599c"
      },
      "outputs": [
        {
          "data": {
            "text/plain": [
              "True"
            ]
          },
          "execution_count": 3,
          "metadata": {},
          "output_type": "execute_result"
        }
      ],
      "source": [
        "# tomemos un screenshot\n",
        "wd.save_screenshot('screenshot_google.png')"
      ]
    },
    {
      "cell_type": "code",
      "execution_count": null,
      "metadata": {
        "colab": {
          "base_uri": "https://localhost:8080/"
        },
        "id": "8pzQgOtTGep3",
        "outputId": "e2ae8d49-9265-42e1-d5b1-7fbab171297e"
      },
      "outputs": [
        {
          "name": "stdout",
          "output_type": "stream",
          "text": [
            "Texto de bienvenida:\n",
            " Bienvenidos a Wikipedia,\n",
            "\n",
            "Texto del articulo destacado:\n",
            "Artículo destacado\n",
            "All I Want for Christmas Is You\n",
            "Mariah Carey en una interpretación en vivo en Las Vegas en 2009.\n",
            "«All I Want for Christmas Is You» es una canción navideña de estilo pop coescrita e interpretada por la cantante estadounidense Mariah Carey, y distribuida por Columbia Records a partir de 1994 como el sencillo principal del cuarto álbum de estudio de la intérprete, Merry Christmas.\n",
            "Carey y Walter Afanasieff participaron tanto en la redacción de la letra como en la producción de la canción, en la que ella declara su interés en pasar las fiestas decembrinas acompañada de su ser amado, en vez de recibir obsequios o adornos navideños. Es una canción con tempo rápido, cuya instrumentación incluye el uso de piano, pandereta y coros. Para su promoción se produjeron en diciembre de 1993 dos videos musicales con Carey como protagonista.\n",
            "Leer\n",
            "Todos los artículos destacados\n"
          ]
        }
      ],
      "source": [
        "# Otro ejemplo\n",
        "\n",
        "url = \"https://www.wikipedia.org/\" \n",
        "wd.get(url)\n",
        "\n",
        "# Tiempo  de espera ( si encuentra antes, no espera)\n",
        "wd.implicitly_wait(20)\n",
        "\n",
        "# Busco el boton de wikipedia en español\n",
        "boton_wiki_esp = wd.find_element(By.ID, 'js-link-box-es')\n",
        "\n",
        "# Le hago click\n",
        "boton_wiki_esp.click()\n",
        "\n",
        "hello_wiki = wd.find_element(By.ID,'Bienvenidos_a_Wikipedia,')\n",
        "main_article = wd.find_element(By.ID,'main-tfa')\n",
        "\n",
        "print(f'Texto de bienvenida:\\n {hello_wiki.text}\\n')\n",
        "print(f'Texto del articulo destacado:\\n{main_article.text}')"
      ]
    },
    {
      "cell_type": "code",
      "execution_count": null,
      "metadata": {
        "colab": {
          "base_uri": "https://localhost:8080/"
        },
        "id": "Hzc538_7rGs4",
        "outputId": "e2a1c42d-12fd-48b2-e7b9-ca7abd9ec3a3"
      },
      "outputs": [
        {
          "name": "stdout",
          "output_type": "stream",
          "text": [
            "Heading: \n",
            "Procesamiento de lenguajes naturales\n"
          ]
        }
      ],
      "source": [
        "# El input del formulario de busqueda\n",
        "\n",
        "search_input = wd.find_element(By.ID,'searchInput')\n",
        "\n",
        "# El boton de busqueda\n",
        "search_button = wd.find_element(By.ID,'searchButton')\n",
        "\n",
        "# Envio el texto que quiero que ponga en el formulario\n",
        "search_input.send_keys('Procesamiento del lenguaje natural')\n",
        "\n",
        "#Hago click\n",
        "search_button.click()\n",
        "\n",
        "# Imprimo el título de la página a la que se accedió\n",
        "heading = wd.find_element(By.ID,\"firstHeading\")\n",
        "print(f'Heading: \\n{heading.text}') "
      ]
    },
    {
      "cell_type": "code",
      "execution_count": null,
      "metadata": {
        "colab": {
          "base_uri": "https://localhost:8080/"
        },
        "id": "rmM5u7D7G3nm",
        "outputId": "ea90ab5a-4b3b-4889-a94e-33bbbf6ec21f"
      },
      "outputs": [
        {
          "data": {
            "text/plain": [
              "True"
            ]
          },
          "execution_count": 6,
          "metadata": {},
          "output_type": "execute_result"
        }
      ],
      "source": [
        "# Podemos sacar una captura de pantalla \n",
        "wd.save_screenshot('screenshot_wikipedia.png')"
      ]
    },
    {
      "cell_type": "code",
      "execution_count": null,
      "metadata": {
        "id": "_PuzfMY9VhsE"
      },
      "outputs": [],
      "source": [
        "# Cerramos el web driver\n",
        "wd.close()"
      ]
    },
    {
      "cell_type": "markdown",
      "metadata": {
        "id": "xmgNyogU9w5U"
      },
      "source": [
        "## **Caso de uso Nº 1: Scroll infinito**\n",
        "\n",
        "Existen páginas que no muestran todo el contenido a menos que vayamos hasta abajo (*scroll*). Esta acción dispara un evento de javascript que renderiza más HTML y por lo tanto vemos contenido nuevo.\n",
        "\n",
        "Podemos emular la acción de mediante Selenium."
      ]
    },
    {
      "cell_type": "code",
      "execution_count": null,
      "metadata": {
        "colab": {
          "base_uri": "https://localhost:8080/"
        },
        "id": "UwqqBs_P96cW",
        "outputId": "2d296768-edc6-4298-c1d0-9c16330f9b88"
      },
      "outputs": [
        {
          "name": "stdout",
          "output_type": "stream",
          "text": [
            "1a - Infinite Scroll full page demo\n",
            "1b - RGB Schemes logo in Computer Arts\n"
          ]
        }
      ],
      "source": [
        "# Configuramos el web driver\n",
        "driver = webdriver.Chrome('chromedriver',options=options)\n",
        "\n",
        "# Hacemos el pedido a la URL\n",
        "url = \"https://infinite-scroll.com/demo/full-page/\" \n",
        "driver.get(url)\n",
        "\n",
        "# Busco todos los h2 (notar la sutileza del metodo elements con la 's' al final)\n",
        "h2_list = driver.find_elements(By.CSS_SELECTOR, 'h2')\n",
        "for h2 in h2_list:\n",
        "  print(h2.text)"
      ]
    },
    {
      "cell_type": "markdown",
      "metadata": {
        "id": "rgrP5sUH-iws"
      },
      "source": [
        "Ahora veamos si obtenemos los mismos `h2` si utilizamos selenium para hacer *scroll*"
      ]
    },
    {
      "cell_type": "code",
      "execution_count": null,
      "metadata": {
        "colab": {
          "base_uri": "https://localhost:8080/"
        },
        "id": "1DlxEjmK9zLC",
        "outputId": "4532094d-ade7-4768-ecd5-f4f3628d44b8"
      },
      "outputs": [
        {
          "name": "stdout",
          "output_type": "stream",
          "text": [
            "Iteracion numero 1\n",
            "\n",
            "\n",
            "1a - Infinite Scroll full page demo\n",
            "1b - RGB Schemes logo in Computer Arts\n",
            "\n",
            "\n",
            "\n",
            "Iteracion numero 2\n",
            "\n",
            "\n",
            "1a - Infinite Scroll full page demo\n",
            "1b - RGB Schemes logo in Computer Arts\n",
            "2a - RGB Schemes logo\n",
            "2b - Masonry gets horizontalOrder\n",
            "2c - Every vector 2016\n",
            "\n",
            "\n",
            "\n",
            "Iteracion numero 3\n",
            "\n",
            "\n",
            "1a - Infinite Scroll full page demo\n",
            "1b - RGB Schemes logo in Computer Arts\n",
            "2a - RGB Schemes logo\n",
            "2b - Masonry gets horizontalOrder\n",
            "2c - Every vector 2016\n",
            "3a - Logo Pizza delivered\n",
            "3b - Some CodePens\n",
            "3c - 365daysofmusic.com\n",
            "3d - Holograms\n",
            "\n",
            "\n",
            "\n",
            "Iteracion numero 4\n",
            "\n",
            "\n",
            "1a - Infinite Scroll full page demo\n",
            "1b - RGB Schemes logo in Computer Arts\n",
            "2a - RGB Schemes logo\n",
            "2b - Masonry gets horizontalOrder\n",
            "2c - Every vector 2016\n",
            "3a - Logo Pizza delivered\n",
            "3b - Some CodePens\n",
            "3c - 365daysofmusic.com\n",
            "3d - Holograms\n",
            "4a - Huebee: 1-click color picker\n",
            "4b - Word is Flickity is good\n",
            "\n",
            "\n",
            "\n",
            "Iteracion numero 5\n",
            "\n",
            "\n",
            "1a - Infinite Scroll full page demo\n",
            "1b - RGB Schemes logo in Computer Arts\n",
            "2a - RGB Schemes logo\n",
            "2b - Masonry gets horizontalOrder\n",
            "2c - Every vector 2016\n",
            "3a - Logo Pizza delivered\n",
            "3b - Some CodePens\n",
            "3c - 365daysofmusic.com\n",
            "3d - Holograms\n",
            "4a - Huebee: 1-click color picker\n",
            "4b - Word is Flickity is good\n",
            "\n",
            "\n",
            "\n"
          ]
        }
      ],
      "source": [
        "driver.save_screenshot(f'infinite_page.screenshot.png')\n",
        "\n",
        "# Hago lo mismo que antes pero iterando 5 veces y pidiendole que scrollee hasta el final cada vez y saque un screenshot\n",
        "for i in range(5):\n",
        "  print(f'Iteracion numero {i+1}\\n\\n')\n",
        "  driver.save_screenshot(f'infinite_page_{i+1}.screenshot.png')\n",
        "  # el metodo execute_script me permite ejecutar codigo de javascript, en este caso para ir al final de la pagina\n",
        "  driver.execute_script(\"window.scrollTo(0, document.body.scrollHeight);\") \n",
        "  h2_list = driver.find_elements(By.CSS_SELECTOR, 'h2')\n",
        "  \n",
        "  for h2 in h2_list:\n",
        "    print(h2.text)\n",
        "  print('\\n\\n')"
      ]
    },
    {
      "cell_type": "code",
      "execution_count": null,
      "metadata": {
        "id": "5c5ICJi8UTYG"
      },
      "outputs": [],
      "source": [
        "driver.quit()"
      ]
    },
    {
      "cell_type": "markdown",
      "metadata": {
        "id": "uOjIXqJWMBzp"
      },
      "source": [
        "## **Caso de uso Nº 2: Páginas que usan JavaScript para mostrar el contenido de manera asíncrona**\n",
        "\n",
        "* Hay páginas que cuando hacemos un request a su URL no nos devuelve lo que esperamos. Sino bastante código de JavaScript (entre etiquetas `<script>`)\n",
        "\n",
        "* En esos casos hay que esperar un tiempo y/o interactuar con la pagina.\n",
        "\n",
        "Ejemplo: http://www.parrocchiemap.it/parrocchiemap/ricerca_pm.jsp?diocesi=Milano&idzonapastoraler=296\n",
        "\n"
      ]
    },
    {
      "cell_type": "code",
      "execution_count": null,
      "metadata": {
        "id": "aFWyNIwvP-dW"
      },
      "outputs": [],
      "source": [
        "# options = webdriver.ChromeOptions() # Usamos chrome, se podria usar otro.\n",
        "# options.add_argument('--headless')\n",
        "# options.add_argument('--no-sandbox')\n",
        "# options.add_argument('--disable-dev-shm-usage')\n",
        "\n",
        "idzonapastorale_value = []\n",
        "idzonapastorale_text = []\n",
        "\n",
        "driver = webdriver.Chrome('chromedriver',options=options)\n",
        "\n",
        "url = \"http://www.parrocchiemap.it/parrocchiemap/ricerca_pm.jsp?diocesi=Milano&idzonapastoraler=296\"\n",
        "\n",
        "# Hacemos el pedido a la URL\n",
        "driver.get(url)\n",
        "\n",
        "# Ejecuto codigo de javacript para ir al final de la pagina\n",
        "driver.execute_script(\"window.scrollTo(0, document.body.scrollHeight);\") \n",
        "\n",
        "# # Espero a que cargue la pagina\n",
        "WebDriverWait(driver, timeout=5)\n",
        "\n",
        "\n",
        "# El metodo Select nos permite acceder a las opciones en un menu desplegable (drop-down)\n",
        "select = Select(driver.find_element(By.ID, 'idzonapastorale'))\n",
        "for item in select.options:\n",
        "    print(item.get_attribute('innerText'), item.get_attribute('value')) \n",
        "    idzonapastorale_value.append(item.get_attribute('value'))\n",
        "    idzonapastorale_text.append(item.get_attribute('innerText'))"
      ]
    },
    {
      "cell_type": "code",
      "execution_count": null,
      "metadata": {
        "id": "LQ4UdD8Aa2At"
      },
      "outputs": [],
      "source": [
        "pagesource_list = []\n",
        "\n",
        "diocesi = 'Milano' \n",
        "for zona in idzonapastorale_value:\n",
        "  print(f'Mirando la zona: {zona}' )\n",
        "  # Configuramos el web driver\n",
        "  driver = webdriver.Chrome('chromedriver',options=options)\n",
        "  idzonapastorale = zona\n",
        "  url = f\"http://www.parrocchiemap.it/parrocchiemap/ricerca_pm.jsp?diocesi={diocesi}&idzonapastoraler={idzonapastorale}\" \n",
        "\n",
        "  # Hacemos el pedido a la URL\n",
        "  driver.get(url)\n",
        "\n",
        "  driver.execute_script(\"window.scrollTo(0, document.body.scrollHeight);\") \n",
        "\n",
        "  # # Espero a que cargue la pagina a la vieja usanza\n",
        "  # time.sleep(10) \n",
        "  WebDriverWait(driver, timeout=5)\n",
        "\n",
        "  # Cambio el driver para que este en el iframe\n",
        "  driver.switch_to.frame(driver.find_element(By.TAG_NAME, \"iframe\"))\n",
        "\n",
        "  # Una manera de quedarse con el HTML\n",
        "  html = driver.execute_script(\"return document.getElementsByTagName('html')[0].innerHTML\")\n",
        "\n",
        "  # Otra manera usando el atributo del web driver\n",
        "  pageSource = driver.page_source\n",
        "\n",
        "  pagesource_list.append(pageSource)\n",
        "\n",
        "  driver.save_screenshot(f'screenshot_{zona}.png')"
      ]
    },
    {
      "cell_type": "code",
      "execution_count": null,
      "metadata": {
        "id": "E-11V9hna_4H"
      },
      "outputs": [],
      "source": [
        "# Proceso los mails\n",
        "\n",
        "import re\n",
        "\n",
        "def procesar_mails(pagesource_list):\n",
        "  mails_total = []\n",
        "\n",
        "  for zona in pagesource_list:\n",
        "    mails = []\n",
        "    pos = []\n",
        "    # obteniendo los mails\n",
        "    match = re.findall(r'(mailto:\\S+@\\S+)', zona)\n",
        "    \n",
        "    for num, i in enumerate(match):\n",
        "      pos.append(num)\n",
        "      lista = i.split('+')\n",
        "      mail = ''.join(lista[0][7:].replace(\"'\", \"\")+lista[1].replace(\"'\", \"\")+lista[2].replace(\"'\", \"\")).split(',')[0].split(';')[0]\n",
        "      mails.append(mail)\n",
        "\n",
        "    mails_total.append(mails)\n",
        "\n",
        "  return mails_total\n",
        "\n",
        "mails_total = procesar_mails(pagesource_list)"
      ]
    },
    {
      "cell_type": "code",
      "execution_count": null,
      "metadata": {
        "id": "R9SWIzsmbD8O"
      },
      "outputs": [],
      "source": [
        "# Armo un Pandas Dataframe en base al diccionario\n",
        "import pandas as pd\n",
        "\n",
        "diccionario_mails = dict()\n",
        "df_list = [] \n",
        "for num, zona in enumerate(idzonapastorale_text[1:]):\n",
        "   diccionario_mails[f'df{num+1}']= pd.DataFrame(mails_total[num+1], columns=[f'{zona}'])\n",
        "   df_list.append(diccionario_mails[f'df{num+1}'])\n",
        "\n",
        "df_final = pd.concat(df_list, axis=1)\n",
        "df_final"
      ]
    },
    {
      "cell_type": "code",
      "execution_count": null,
      "metadata": {
        "id": "bn-vl0BGbJLA"
      },
      "outputs": [],
      "source": [
        "# Pasamos el dataframe a formato csv\n",
        "df_final.to_csv() # Si pasan como argumento un string con el nombre del archivo lo guarda. Ej: 'datos.csv'"
      ]
    },
    {
      "cell_type": "markdown",
      "metadata": {
        "id": "Ntfb16H_6ldE"
      },
      "source": [
        "## **Caso de uso Nº 3: Alertas, prompts y confirmaciones**\n",
        "\n",
        "La idea es aprender como lidiar con distintos tipos de ventanas emergentes que pueden aparecer mientras nuestro scrapper está funcionando."
      ]
    },
    {
      "cell_type": "markdown",
      "metadata": {
        "id": "664uP2v5MzK3"
      },
      "source": [
        "alerta simple de javascript"
      ]
    },
    {
      "cell_type": "code",
      "execution_count": null,
      "metadata": {
        "colab": {
          "base_uri": "https://localhost:8080/"
        },
        "id": "bkiCRPKYM1xb",
        "outputId": "bde0a2f9-594b-49fd-9011-fd03483d3374"
      },
      "outputs": [
        {
          "name": "stdout",
          "output_type": "stream",
          "text": [
            "Texto de la alerta:  What is your tool of choice?\n"
          ]
        }
      ],
      "source": [
        "driver = webdriver.Chrome('chromedriver',options=options)\n",
        "\n",
        "url = \"https://www.selenium.dev/documentation/webdriver/js_alerts_prompts_and_confirmations/\" \n",
        "\n",
        "# Hacemos el pedido a la URL\n",
        "driver.get(url)\n",
        "\n",
        "# Click para activar al alerta\n",
        "\n",
        "driver.find_element(By.XPATH, \"/html/body/div/div[1]/div/main/div/p[6]/a\").click()\n",
        "\n",
        "# Wait for the alert to be displayed and store it in a variable\n",
        "# WebDriverWait(driver, 10).until(EC.alert_is_present())\n",
        "\n",
        "alert = driver.switch_to.alert\n",
        "\n",
        "print('Texto de la alerta: ', alert.text)\n",
        "\n",
        "# Aceptamos\n",
        "alert.accept()\n",
        "\n"
      ]
    },
    {
      "cell_type": "code",
      "execution_count": null,
      "metadata": {
        "colab": {
          "base_uri": "https://localhost:8080/"
        },
        "id": "PRf1dJ5wJ7KQ",
        "outputId": "3f65c0af-34dd-4315-ce74-48b31d9e0e0a"
      },
      "outputs": [
        {
          "data": {
            "text/plain": [
              "True"
            ]
          },
          "execution_count": 20,
          "metadata": {},
          "output_type": "execute_result"
        }
      ],
      "source": [
        "wd.save_screenshot('screenshot_alert1.png')"
      ]
    },
    {
      "cell_type": "code",
      "execution_count": null,
      "metadata": {
        "id": "F1esCdhDICWa"
      },
      "outputs": [],
      "source": [
        "driver.quit()"
      ]
    },
    {
      "cell_type": "markdown",
      "metadata": {
        "id": "Zkkx-jQwPb4H"
      },
      "source": [
        "Caja de confirmacion"
      ]
    },
    {
      "cell_type": "code",
      "execution_count": null,
      "metadata": {
        "colab": {
          "base_uri": "https://localhost:8080/"
        },
        "id": "KHO1-NFePXYq",
        "outputId": "8634f090-cd0e-4291-8982-bcc3dd05669f"
      },
      "outputs": [
        {
          "name": "stdout",
          "output_type": "stream",
          "text": [
            "Texto de la alerta:  Are you sure?\n"
          ]
        }
      ],
      "source": [
        "# Hacemos el pedido a la URL\n",
        "driver = webdriver.Chrome('chromedriver',options=options)\n",
        "\n",
        "driver.get(url)\n",
        "# Click para activar al alerta\n",
        "driver.find_element(By.LINK_TEXT, \"See a sample confirm\").click()\n",
        "\n",
        "# Wait for the alert to be displayed and store it in a variable\n",
        "WebDriverWait(driver, 10).until(EC.alert_is_present())\n",
        "alert = driver.switch_to.alert\n",
        "\n",
        "print('Texto de la alerta: ', alert.text)\n",
        "\n",
        "# para cancelar\n",
        "alert.dismiss()"
      ]
    },
    {
      "cell_type": "code",
      "execution_count": null,
      "metadata": {
        "id": "8RRoeH9CIHqr"
      },
      "outputs": [],
      "source": [
        "driver.quit()"
      ]
    },
    {
      "cell_type": "markdown",
      "metadata": {
        "id": "6aYkpBoLP7LE"
      },
      "source": [
        "Prompt\n",
        "\n",
        "Son como las cajas de confirmacion pero tiene un input para texto"
      ]
    },
    {
      "cell_type": "code",
      "execution_count": null,
      "metadata": {
        "colab": {
          "base_uri": "https://localhost:8080/"
        },
        "id": "gLfCeqJ5QA3k",
        "outputId": "8637d85f-d3e9-4df1-e433-6b8d1ce712b4"
      },
      "outputs": [
        {
          "name": "stdout",
          "output_type": "stream",
          "text": [
            "Texto de la alerta:  What is your tool of choice?\n"
          ]
        }
      ],
      "source": [
        "driver = webdriver.Chrome('chromedriver',options=options)\n",
        "\n",
        "# Hacemos el pedido a la URL\n",
        "driver.get(url)\n",
        "\n",
        "# Click para activar al alerta\n",
        "driver.find_element(By.LINK_TEXT, \"See a sample prompt\").click()\n",
        "\n",
        "# Esperamos\n",
        "WebDriverWait(driver, 10).until(EC.alert_is_present())\n",
        "alert = driver.switch_to.alert\n",
        "\n",
        "print('Texto de la alerta: ', alert.text)\n",
        "\n",
        "# Mensaje\n",
        "alert.send_keys(\"Python, obvio\")\n",
        "\n",
        "# Apretamos OK\n",
        "alert.accept()"
      ]
    },
    {
      "cell_type": "markdown",
      "metadata": {
        "id": "pCfagH9EkTgZ"
      },
      "source": [
        "## **Ejemplo real: Spotify 🎵**\n",
        "\n",
        "Veamos como podemos extraer datos"
      ]
    },
    {
      "cell_type": "code",
      "execution_count": null,
      "metadata": {
        "colab": {
          "base_uri": "https://localhost:8080/"
        },
        "id": "XMUMPPXGkTgb",
        "outputId": "e5469ae0-9e91-4fef-fe52-a4fa6d6a3964"
      },
      "outputs": [
        {
          "data": {
            "text/plain": [
              "True"
            ]
          },
          "execution_count": 83,
          "metadata": {},
          "output_type": "execute_result"
        }
      ],
      "source": [
        "driver = webdriver.Chrome('chromedriver',options=options)\n",
        "\n",
        "url = 'https://open.spotify.com/'\n",
        "\n",
        "# Hacemos el pedido a la URL\n",
        "driver.get(url)\n",
        "driver.save_screenshot(f'Spotify0.png')\n",
        "\n",
        "#Scroll\n",
        "driver.execute_script(\"window.scrollTo(0, document.body.scrollHeight);\") \n",
        "driver.save_screenshot('spoty.png')"
      ]
    },
    {
      "cell_type": "code",
      "execution_count": null,
      "metadata": {
        "id": "64ICm2IVOfT9"
      },
      "outputs": [],
      "source": [
        "xpath_playlist = '//*[@id=\"main\"]/div/div[2]/div[3]/div[1]/div[2]/div[2]/div/div/div[2]/main/section/div/div/section[1]/div[2]/div[1]/div/div[2]/a/div'\n",
        "WebDriverWait(driver, 10).until(EC.element_to_be_clickable((By.XPATH, xpath_playlist))).click()"
      ]
    },
    {
      "cell_type": "code",
      "execution_count": null,
      "metadata": {
        "colab": {
          "base_uri": "https://localhost:8080/"
        },
        "id": "-a-zUIbILUxF",
        "outputId": "2f9116f4-b01e-4657-c453-2796e135b1c2"
      },
      "outputs": [
        {
          "data": {
            "text/plain": [
              "True"
            ]
          },
          "execution_count": 85,
          "metadata": {},
          "output_type": "execute_result"
        }
      ],
      "source": [
        "driver.save_screenshot(f'playlist.png')\n"
      ]
    },
    {
      "cell_type": "code",
      "execution_count": null,
      "metadata": {
        "colab": {
          "base_uri": "https://localhost:8080/"
        },
        "id": "6Gz76IT_kTgn",
        "outputId": "371192db-eab1-43b6-cb74-937c9ac5a2f4"
      },
      "outputs": [
        {
          "name": "stdout",
          "output_type": "stream",
          "text": [
            "Título de la playlist: Today's Top Hits\n",
            "Cantidad de likes: 31,890,675 likes\n"
          ]
        }
      ],
      "source": [
        "xpath_titulo = '//*[@id=\"main\"]/div/div[2]/div[3]/div[1]/div[2]/div[2]/div/div/div[2]/main/div/section/div[1]/div[2]/span/h1'\n",
        "titulo = driver.find_element(By.XPATH, xpath_titulo).text\n",
        "\n",
        "print(f\"Título de la playlist: {titulo}\")\n",
        "\n",
        "likes_xpath = '//*[@id=\"main\"]/div/div[2]/div[3]/div[1]/div[2]/div[2]/div/div/div[2]/main/div/section/div[1]/div[2]/div/span[1]'\n",
        "likes = driver.find_element(By.XPATH, likes_xpath).text\n",
        "\n",
        "print(f\"Cantidad de likes: {likes}\")"
      ]
    },
    {
      "cell_type": "markdown",
      "metadata": {
        "id": "CXC6dB4YkTgt"
      },
      "source": [
        "### <font color='red'>Ejercicio</font>\n",
        "Descargar también la duración de la playlist"
      ]
    },
    {
      "cell_type": "code",
      "execution_count": null,
      "metadata": {
        "colab": {
          "base_uri": "https://localhost:8080/"
        },
        "id": "YXpbmYJer-vo",
        "outputId": "392cbf15-d10b-4fc7-f1af-e9034b1b7618"
      },
      "outputs": [
        {
          "name": "stdout",
          "output_type": "stream",
          "text": [
            "Duración de la playlist Today's Top Hits: 2 hr 31 min\n"
          ]
        }
      ],
      "source": [
        "## espacio para la resolucion\n",
        "xpath_duracion = '//*[@id=\"main\"]/div/div[2]/div[3]/div[1]/div[2]/div[2]/div/div/div[2]/main/div/section/div[1]/div[2]/div/span[2]/span'\n",
        "duracion = driver.find_element(By.XPATH, xpath_duracion).text\n",
        "\n",
        "print(f\"Duración de la playlist {titulo}: {duracion}\")\n"
      ]
    },
    {
      "cell_type": "markdown",
      "metadata": {
        "id": "qvb7i3EoVhsJ"
      },
      "source": [
        "## Ejemplo 3: Spotify\n",
        "\n",
        "Veamos como descargar mayores cantidades de datos y recorrer un sitio web"
      ]
    },
    {
      "cell_type": "code",
      "execution_count": null,
      "metadata": {
        "colab": {
          "base_uri": "https://localhost:8080/"
        },
        "id": "IlvHT3zvVhsK",
        "outputId": "27346515-a937-4076-df05-ed70647d307b"
      },
      "outputs": [
        {
          "data": {
            "text/plain": [
              "<selenium.webdriver.support.wait.WebDriverWait (session=\"6e7befa662ee80307bf31cfadf630c91\")>"
            ]
          },
          "execution_count": 107,
          "metadata": {},
          "output_type": "execute_result"
        }
      ],
      "source": [
        "driver = webdriver.Chrome('chromedriver',options=options)\n",
        "url = 'https://open.spotify.com/genre/funk'\n",
        "\n",
        "driver.get(url)\n",
        "\n",
        "WebDriverWait(driver, 10)\n"
      ]
    },
    {
      "cell_type": "code",
      "execution_count": null,
      "metadata": {
        "id": "3Q7SGoy9VhsK"
      },
      "outputs": [],
      "source": [
        "#Scroll\n",
        "driver.execute_script(\"window.scrollTo(0, document.body.scrollHeight);\") \n",
        "WebDriverWait(driver, 10)\n",
        "# Obtenemos los elementos. \n",
        "# Observen que en el xpath reconocí como era el link a una playlist y usé el operador `*` para generalizar a todas (`/div[*]/div/div[2]/a`)\n",
        "playlists_elements = driver.find_elements(By.XPATH, \"//*[@id='main']/div/div[2]/div[3]/div[1]/div[2]/div[2]/div/div/div[2]/main/div/section/div[2]/div/section/div[2]/div[*]/div/div[2]/a\")\n",
        "playlists_links = [playlist.get_attribute(\"href\") for playlist in playlists_elements]\n",
        "playlists_links"
      ]
    },
    {
      "cell_type": "markdown",
      "metadata": {
        "id": "SXIzr3I8VhsL"
      },
      "source": [
        "### Ejercicio\n",
        "Completar el siguiente código"
      ]
    },
    {
      "cell_type": "code",
      "execution_count": null,
      "metadata": {
        "id": "eZ-FYpcSVhsL"
      },
      "outputs": [],
      "source": [
        "for url in playlists_links:\n",
        "    # Obtener e imprimir el titulo y likes de cada playlist\n",
        "    # Utilizar un try catch por si alguna playlist falla.\n",
        "    # Para así no frenar todo el procesamiento por una playlist\n",
        "\n",
        "driver.close()"
      ]
    },
    {
      "cell_type": "code",
      "execution_count": null,
      "metadata": {
        "id": "EO-P36qZghgj"
      },
      "outputs": [],
      "source": [
        "driver.close()"
      ]
    },
    {
      "cell_type": "code",
      "execution_count": null,
      "metadata": {
        "colab": {
          "base_uri": "https://localhost:8080/"
        },
        "id": "XxDTYhj_eTlh",
        "outputId": "a9f54680-95aa-454f-ea9b-9f2763fbcfab"
      },
      "outputs": [
        {
          "data": {
            "text/plain": [
              "True"
            ]
          },
          "execution_count": 125,
          "metadata": {},
          "output_type": "execute_result"
        }
      ],
      "source": [
        "url = playlists_links[0]\n",
        "driver = webdriver.Chrome('chromedriver',options=options)\n",
        "\n",
        "driver.get(url)\n",
        "WebDriverWait(driver, 10).until(EC.presence_of_element_located((By.XPATH, \"//*[@id='main']/div/div[2]/div[3]/div[1]/div[2]/div[2]/div/div/div[2]/main/div/section/div[1]/div[5]/span/h1\")))\n",
        "\n",
        "driver.save_screenshot('mi_url.png')\n"
      ]
    },
    {
      "cell_type": "code",
      "execution_count": null,
      "metadata": {
        "colab": {
          "base_uri": "https://localhost:8080/"
        },
        "id": "o2j4OFmogt4t",
        "outputId": "1d7ec9f3-233e-459a-e513-3201ac0005b5"
      },
      "outputs": [
        {
          "data": {
            "text/plain": [
              "<selenium.webdriver.remote.webelement.WebElement (session=\"68f51ae98bf117ec1b25a0fa4ac15efd\", element=\"373ce038-fd20-480a-b760-2aa1b363d2ee\")>"
            ]
          },
          "execution_count": 124,
          "metadata": {},
          "output_type": "execute_result"
        }
      ],
      "source": [
        "WebDriverWait(driver, 10).until(EC.presence_of_element_located((By.XPATH, \"//*[@id='main']/div/div[2]/div[3]/div[1]/div[2]/div[2]/div/div/div[2]/main/div/section/div[1]/div[5]/span/h1\")))\n"
      ]
    },
    {
      "cell_type": "code",
      "execution_count": null,
      "metadata": {
        "colab": {
          "base_uri": "https://localhost:8080/"
        },
        "id": "AoUfQuDcgt-P",
        "outputId": "111d97fa-72f5-4adf-8acc-5e32045ef68a"
      },
      "outputs": [
        {
          "data": {
            "text/plain": [
              "True"
            ]
          },
          "execution_count": 122,
          "metadata": {},
          "output_type": "execute_result"
        }
      ],
      "source": [
        "driver.save_screenshot('mi_url.png')\n"
      ]
    },
    {
      "cell_type": "code",
      "execution_count": null,
      "metadata": {
        "colab": {
          "base_uri": "https://localhost:8080/",
          "height": 565
        },
        "id": "A3DorDHZaw1M",
        "outputId": "41991608-0bdf-470f-c0ae-aad16513bd28"
      },
      "outputs": [
        {
          "name": "stdout",
          "output_type": "stream",
          "text": [
            "https://open.spotify.com/playlist/37i9dQZF1DWZgauS5j6pMv\n",
            "Nu-Funk\n",
            "273,175 likes\n",
            "###\n",
            "\n",
            "https://open.spotify.com/playlist/37i9dQZF1DWUcRrhkfhG22\n",
            "Robo-Funk\n",
            "27,250 likes\n",
            "###\n",
            "\n",
            "https://open.spotify.com/playlist/37i9dQZF1DXattPCMpISJh\n"
          ]
        },
        {
          "ename": "KeyboardInterrupt",
          "evalue": "ignored",
          "output_type": "error",
          "traceback": [
            "\u001b[0;31m---------------------------------------------------------------------------\u001b[0m",
            "\u001b[0;31mKeyboardInterrupt\u001b[0m                         Traceback (most recent call last)",
            "\u001b[0;32m<ipython-input-130-eca60954e61d>\u001b[0m in \u001b[0;36m<module>\u001b[0;34m\u001b[0m\n\u001b[1;32m      7\u001b[0m   \u001b[0mdriver\u001b[0m \u001b[0;34m=\u001b[0m \u001b[0mwebdriver\u001b[0m\u001b[0;34m.\u001b[0m\u001b[0mChrome\u001b[0m\u001b[0;34m(\u001b[0m\u001b[0;34m'chromedriver'\u001b[0m\u001b[0;34m,\u001b[0m\u001b[0moptions\u001b[0m\u001b[0;34m=\u001b[0m\u001b[0moptions\u001b[0m\u001b[0;34m)\u001b[0m\u001b[0;34m\u001b[0m\u001b[0;34m\u001b[0m\u001b[0m\n\u001b[1;32m      8\u001b[0m   \u001b[0mdriver\u001b[0m\u001b[0;34m.\u001b[0m\u001b[0mget\u001b[0m\u001b[0;34m(\u001b[0m\u001b[0murl\u001b[0m\u001b[0;34m)\u001b[0m\u001b[0;34m\u001b[0m\u001b[0;34m\u001b[0m\u001b[0m\n\u001b[0;32m----> 9\u001b[0;31m   \u001b[0mWebDriverWait\u001b[0m\u001b[0;34m(\u001b[0m\u001b[0mdriver\u001b[0m\u001b[0;34m,\u001b[0m \u001b[0;36m10\u001b[0m\u001b[0;34m)\u001b[0m\u001b[0;34m.\u001b[0m\u001b[0muntil\u001b[0m\u001b[0;34m(\u001b[0m\u001b[0mEC\u001b[0m\u001b[0;34m.\u001b[0m\u001b[0mpresence_of_element_located\u001b[0m\u001b[0;34m(\u001b[0m\u001b[0;34m(\u001b[0m\u001b[0mBy\u001b[0m\u001b[0;34m.\u001b[0m\u001b[0mXPATH\u001b[0m\u001b[0;34m,\u001b[0m \u001b[0;34m\"//*[@id='main']/div/div[2]/div[3]/div[1]/div[2]/div[2]/div/div/div[2]/main/div/section/div[1]/div[5]/span/h1\"\u001b[0m\u001b[0;34m)\u001b[0m\u001b[0;34m)\u001b[0m\u001b[0;34m)\u001b[0m\u001b[0;34m\u001b[0m\u001b[0;34m\u001b[0m\u001b[0m\n\u001b[0m\u001b[1;32m     10\u001b[0m   \u001b[0mdriver\u001b[0m\u001b[0;34m.\u001b[0m\u001b[0mexecute_script\u001b[0m\u001b[0;34m(\u001b[0m\u001b[0;34m\"window.scrollTo(0, document.body.scrollHeight);\"\u001b[0m\u001b[0;34m)\u001b[0m\u001b[0;34m\u001b[0m\u001b[0;34m\u001b[0m\u001b[0m\n\u001b[1;32m     11\u001b[0m   \u001b[0mprint\u001b[0m\u001b[0;34m(\u001b[0m\u001b[0mdriver\u001b[0m\u001b[0;34m.\u001b[0m\u001b[0mfind_element\u001b[0m\u001b[0;34m(\u001b[0m\u001b[0mBy\u001b[0m\u001b[0;34m.\u001b[0m\u001b[0mXPATH\u001b[0m\u001b[0;34m,\u001b[0m \u001b[0;34m'//*[@id=\"main\"]/div/div[2]/div[3]/div[1]/div[2]/div[2]/div/div/div[2]/main/div/section/div[1]/div[5]/span/h1'\u001b[0m\u001b[0;34m)\u001b[0m\u001b[0;34m.\u001b[0m\u001b[0mtext\u001b[0m\u001b[0;34m)\u001b[0m\u001b[0;34m\u001b[0m\u001b[0;34m\u001b[0m\u001b[0m\n",
            "\u001b[0;32m/usr/local/lib/python3.7/dist-packages/selenium/webdriver/support/wait.py\u001b[0m in \u001b[0;36muntil\u001b[0;34m(self, method, message)\u001b[0m\n\u001b[1;32m     85\u001b[0m                 \u001b[0mscreen\u001b[0m \u001b[0;34m=\u001b[0m \u001b[0mgetattr\u001b[0m\u001b[0;34m(\u001b[0m\u001b[0mexc\u001b[0m\u001b[0;34m,\u001b[0m \u001b[0;34m'screen'\u001b[0m\u001b[0;34m,\u001b[0m \u001b[0;32mNone\u001b[0m\u001b[0;34m)\u001b[0m\u001b[0;34m\u001b[0m\u001b[0;34m\u001b[0m\u001b[0m\n\u001b[1;32m     86\u001b[0m                 \u001b[0mstacktrace\u001b[0m \u001b[0;34m=\u001b[0m \u001b[0mgetattr\u001b[0m\u001b[0;34m(\u001b[0m\u001b[0mexc\u001b[0m\u001b[0;34m,\u001b[0m \u001b[0;34m'stacktrace'\u001b[0m\u001b[0;34m,\u001b[0m \u001b[0;32mNone\u001b[0m\u001b[0;34m)\u001b[0m\u001b[0;34m\u001b[0m\u001b[0;34m\u001b[0m\u001b[0m\n\u001b[0;32m---> 87\u001b[0;31m             \u001b[0mtime\u001b[0m\u001b[0;34m.\u001b[0m\u001b[0msleep\u001b[0m\u001b[0;34m(\u001b[0m\u001b[0mself\u001b[0m\u001b[0;34m.\u001b[0m\u001b[0m_poll\u001b[0m\u001b[0;34m)\u001b[0m\u001b[0;34m\u001b[0m\u001b[0;34m\u001b[0m\u001b[0m\n\u001b[0m\u001b[1;32m     88\u001b[0m             \u001b[0;32mif\u001b[0m \u001b[0mtime\u001b[0m\u001b[0;34m.\u001b[0m\u001b[0mmonotonic\u001b[0m\u001b[0;34m(\u001b[0m\u001b[0;34m)\u001b[0m \u001b[0;34m>\u001b[0m \u001b[0mend_time\u001b[0m\u001b[0;34m:\u001b[0m\u001b[0;34m\u001b[0m\u001b[0;34m\u001b[0m\u001b[0m\n\u001b[1;32m     89\u001b[0m                 \u001b[0;32mbreak\u001b[0m\u001b[0;34m\u001b[0m\u001b[0;34m\u001b[0m\u001b[0m\n",
            "\u001b[0;31mKeyboardInterrupt\u001b[0m: "
          ]
        }
      ],
      "source": [
        "# Respuesta\n",
        "\n",
        "for url in playlists_links:\n",
        "  print(url)\n",
        "  driver = webdriver.Chrome('chromedriver',options=options)\n",
        "  driver.get(url)\n",
        "  WebDriverWait(driver, 10).until(EC.presence_of_element_located((By.XPATH, \"//*[@id='main']/div/div[2]/div[3]/div[1]/div[2]/div[2]/div/div/div[2]/main/div/section/div[1]/div[5]/span/h1\")))\n",
        "  driver.execute_script(\"window.scrollTo(0, document.body.scrollHeight);\") \n",
        "  print(driver.find_element(By.XPATH, '//*[@id=\"main\"]/div/div[2]/div[3]/div[1]/div[2]/div[2]/div/div/div[2]/main/div/section/div[1]/div[5]/span/h1').text)\n",
        "  print(driver.find_element(By.XPATH, '//*[@id=\"main\"]/div/div[2]/div[3]/div[1]/div[2]/div[2]/div/div/div[2]/main/div/section/div[1]/div[5]/div/span[1]').text)\n",
        "  print(\"###\", end='\\n\\n')"
      ]
    },
    {
      "cell_type": "markdown",
      "metadata": {
        "id": "BAJWTI1mVhsN"
      },
      "source": [
        "\n",
        "## Recursos útiles\n",
        "### videos\n",
        "\n",
        "* [Damian Sire: Videotutoriales de selenium con ejemplos de uso entretenidos](https://www.youtube.com/watch?v=iIYzkeQAgp8&list=PLVxN95ZVpcJsG8TQMozeOVBDkf7EYMuPz)\n",
        "* [Selenium FULL COURSE - Learn Selenium by creating a bot in 3 hours [2021]](https://youtu.be/6gxhcvrf2Jk)\n",
        "\n",
        "### Libros\n",
        "\n",
        "* [Web Scraping with Python, 2nd Edition](https://www.oreilly.com/library/view/web-scraping-with/9781491985564/)\n",
        "  * [Código asociado al libro](https://github.com/REMitchell/python-scraping)\n",
        "* [Hands-On Web Scraping with Python](https://www.amazon.com/Hands-Web-Scraping-Python-operations-ebook/dp/B07VFFYPGK)"
      ]
    }
  ],
  "metadata": {
    "colab": {
      "provenance": []
    },
    "instance_type": "ml.t3.medium",
    "kernelspec": {
      "display_name": "Python 3",
      "language": "python",
      "name": "python3"
    },
    "language_info": {
      "codemirror_mode": {
        "name": "ipython",
        "version": 3
      },
      "file_extension": ".py",
      "mimetype": "text/x-python",
      "name": "python",
      "nbconvert_exporter": "python",
      "pygments_lexer": "ipython3",
      "version": "3.11.9"
    }
  },
  "nbformat": 4,
  "nbformat_minor": 0
}
