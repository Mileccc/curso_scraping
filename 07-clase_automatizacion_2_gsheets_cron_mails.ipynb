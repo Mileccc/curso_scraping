{
  "cells": [
    {
      "cell_type": "markdown",
      "metadata": {},
      "source": [
        "<div align=\"center\"><a href=\"https://colab.research.google.com/github/institutohumai/cursos-python/blob/master/Automatizacion/Automatización_2/clase_automatizacion_2_gsheets_cron_mails.ipynb\"> <img src='https://colab.research.google.com/assets/colab-badge.svg'/> </a> <br> Recordá abrir en una nueva pestaña </div>"
      ]
    },
    {
      "cell_type": "markdown",
      "metadata": {
        "id": "IxFuuYnCgcud"
      },
      "source": [
        "# Automatización II: outputs, envío de mail, volcado a GSheets, scheduling\n",
        "\n",
        "### Hoja de ruta\n",
        "\n",
        "-   Ejemplo scrapeo sencillo con *Pandas*.\t\t\t\t\t\n",
        "-   Uso de la API de *Google Sheets*.\t\t\t\t\t\t\t\n",
        "-   Carga de datos en *Google Data Studio* y creación de un gráfico sencillo.\n",
        "-   Ejemplo envío automático de mail con *smtplib*.\t\t\t\t \t\n",
        "-   Scheduling: cron para Mac y linux, GUI en Windows.\t\t\t\t\t"
      ]
    },
    {
      "cell_type": "markdown",
      "metadata": {
        "id": "erSI36S0gcuh"
      },
      "source": [
        "## Scrapping con Pandas\n",
        "\n",
        "\n",
        "\n",
        "Vamos a utilizar la librería de pandas para obtener las tablas que contiene una página. \n",
        "\n",
        "Documentación: https://pandas.pydata.org/docs/reference/api/pandas.read_html.html"
      ]
    },
    {
      "cell_type": "code",
      "execution_count": null,
      "metadata": {
        "id": "JvR6tQDwgcuh"
      },
      "outputs": [],
      "source": [
        "import pandas as pd\n",
        "import numpy as np\n",
        "\n",
        "pd.set_option('display.float_format', lambda x: '%.7f' % x)"
      ]
    },
    {
      "cell_type": "code",
      "execution_count": null,
      "metadata": {
        "id": "WK3H7595gcuj"
      },
      "outputs": [],
      "source": [
        "# Datos de criptomonedas\n",
        "url = \"https://coinmarketcap.com/new/\""
      ]
    },
    {
      "cell_type": "markdown",
      "metadata": {
        "id": "jhbKI2-Hgcuj"
      },
      "source": [
        "Ahora con *pandas.read_html()* es posible conseguir una lista con las tablas que contiene una *url*."
      ]
    },
    {
      "cell_type": "code",
      "execution_count": null,
      "metadata": {
        "id": "xoEIR290gcuj"
      },
      "outputs": [],
      "source": [
        "listadoTablas = pd.read_html(url)"
      ]
    },
    {
      "cell_type": "code",
      "execution_count": null,
      "metadata": {
        "id": "b7FcTpcLgcuk"
      },
      "outputs": [],
      "source": [
        "listadoTablas[0].info()"
      ]
    },
    {
      "cell_type": "markdown",
      "metadata": {
        "id": "lU7tDle-gcul"
      },
      "source": [
        "Seleccionamos la tabla de las criptomonedas recientemente añadidas."
      ]
    },
    {
      "cell_type": "code",
      "execution_count": null,
      "metadata": {
        "id": "mazoB0-agcul"
      },
      "outputs": [],
      "source": [
        "df = listadoTablas[0].copy()\n",
        "df.drop(['#','Unnamed: 10', 'Unnamed: 0'], axis=1, inplace=True) # Eliminamos columna valores nulos.\n",
        "df.columns = ['Name', 'Price', 'PctChnge_1h', 'PctChnge_24h', 'FullDiluted_MarketCap', 'Volume', 'Blockchain', 'Added_HoursAgo']\n",
        "df.replace('--', '0', inplace=True) # Imputamos valores nulos como 0 \n",
        "df.replace('\\.\\.\\.', '', regex=True, inplace=True) #Para liberarnos de los tres puntos. OJO: No devuelve el valor real, sino que le sacamos ceros. \n",
        "df.fillna('', inplace=True)\n",
        "df.head(20)"
      ]
    },
    {
      "cell_type": "code",
      "execution_count": null,
      "metadata": {
        "id": "jIfuDF0cgcum"
      },
      "outputs": [],
      "source": [
        "# Convertimos a los tipos deseados\n",
        "\n",
        "df['Price'] = df['Price'].replace( '[\\$,)]','', regex=True ).astype(float)\n",
        "df['FullDiluted_MarketCap'] = df['FullDiluted_MarketCap'].replace( '[\\$,)]','', regex=True )\n",
        "df['Volume'] = df['Volume'  ].replace( '[\\$,)]','', regex=True ).astype(float)\n",
        "df['PctChnge_1h'] = df['PctChnge_1h'].replace( '[\\%,)]','', regex=True ).astype(float)/100\n",
        "df['PctChnge_24h'] = df['PctChnge_24h'].replace( '[\\%,)]','', regex=True ).astype(float)/100\n",
        "df['Added_HoursAgo'] = df['Added_HoursAgo'].apply(lambda x: x[0])"
      ]
    },
    {
      "cell_type": "code",
      "execution_count": null,
      "metadata": {
        "id": "7tB2rgU9gcun"
      },
      "outputs": [],
      "source": [
        "df.head()"
      ]
    },
    {
      "cell_type": "markdown",
      "metadata": {
        "id": "faZLkTxqgcuo"
      },
      "source": [
        "## **Vinculación con Google Drive**\n",
        "\n",
        "Para poder escribir/leer un archivo que se encuentra en *Google Drive*, será necesario primero, contar con un archivo de *autenticación* a su vez que compartir el archivo pertinente con el servicio creado desde Python."
      ]
    },
    {
      "cell_type": "markdown",
      "metadata": {
        "id": "7VlPFf5Dgcuo"
      },
      "source": [
        "#### Generación de archivo de autenticación. (Conexión local)\n",
        "\n",
        "Para ello entraremos en el siguiente [link](https://console.cloud.google.com/apis/) ingresando con la cuenta de google que querramos vincular. Una vez dentro de la plataforma de Google Cloud, crearemos un proyecto. Una vez dentro del proyecto entraremos en la sección **API y servicios** y daremos click en la opción **habilitar API y servicio**.\n",
        "\n",
        "  <img src=\"https://unket.s3.sa-east-1.amazonaws.com/static/gcp1.png\" alt=\"drawing\" width=\"500\"/>"
      ]
    },
    {
      "cell_type": "markdown",
      "metadata": {
        "id": "ivf3DvOygcup"
      },
      "source": [
        "Allí dentro seleccionaremos el tipo de API que estemos necesitando. En este caso la de Google Drive y Google Sheets. Una vez habilitada la API dentro de nuestro proyecto, iremos a la sección de **credenciales**, y dentro de la misma daremos click a **crear credenciales**. Seleccionamos la opción de *Cuenta de servicio*. Una vez que la *Cuenta de servicio* haya sido generada, será posible acceder a sus configuraciones y generar una clave en formato json dentro de la misma.\n",
        "\n",
        "<img src=\"https://unket.s3.sa-east-1.amazonaws.com/static/gcp2.png\" alt=\"drawing\" width=\"500\" height=\"300\"/> <img src=\"https://unket.s3.sa-east-1.amazonaws.com/static/clave2.png\" alt=\"drawing\" width=\"500\"/>\n",
        "\n",
        "Más información sobre como crear un proyecto y habilitar una API [aquí](https://developers.google.com/workspace/guides/create-project)"
      ]
    },
    {
      "cell_type": "code",
      "execution_count": null,
      "metadata": {
        "id": "il5zrv9OI_QS"
      },
      "outputs": [],
      "source": [
        "# Esta funcion incluye todo lo que hicios antes, para poder actualizar nuestro DataFrame\n",
        "def coinmarketcap_scraper():\n",
        "  \"\"\"Scraper de la pagina https://coinmarketcap.com/new/\n",
        "  Obtiene los datos, los limpia y los devuelve como un DataFrame de Pandas.\n",
        "  \"\"\"\n",
        "  url = \"https://coinmarketcap.com/new/\"\n",
        "  \n",
        "  # Scrapeamos la tabla con Pandas\n",
        "  listadoTablas = pd.read_html(url)\n",
        "  \n",
        "  # creamos DataFrame\n",
        "  df = listadoTablas[0].copy()\n",
        "\n",
        "  # Limpieza de datos\n",
        "  df.drop(['#','Unnamed: 10', 'Unnamed: 0'], axis=1, inplace=True) # Eliminamos columna valores nulos.\n",
        "  df.columns = ['Name', 'Price', 'PctChnge_1h', 'PctChnge_24h', 'FullDiluted_MarketCap', 'Volume', 'Blockchain', 'Added_HoursAgo']\n",
        "  df.replace('--', '0', inplace=True) # Imputamos valores nulos como 0 \n",
        "  df.replace('\\.\\.\\.', '', regex=True, inplace=True) #Para liberarnos de los tres puntos. OJO: No devuelve el valor real, sino que le sacamos ceros. \n",
        "  df.fillna('', inplace=True)\n",
        "  df.head(20)\n",
        "\n",
        "  # Convertimos a los tipos deseados\n",
        "  df['Price'] = df['Price'].replace( '[\\$,)]','', regex=True ).astype(float)\n",
        "  df['FullDiluted_MarketCap'] = df['FullDiluted_MarketCap'].replace( '[\\$,)]','', regex=True ).astype(float)\n",
        "  df['Volume'] = df['Volume'].replace( '[\\$,)]','', regex=True ).astype(float)\n",
        "  df['PctChnge_1h'] = df['PctChnge_1h'].replace( '[\\%,)]','', regex=True ).astype(float)/100\n",
        "  df['PctChnge_24h'] = df['PctChnge_24h'].replace( '[\\%,)]','', regex=True ).astype(float)/100\n",
        "  df['Added_HoursAgo'] = df['Added_HoursAgo'].apply(lambda x: x[0])\n",
        "\n",
        "  return df"
      ]
    },
    {
      "cell_type": "markdown",
      "metadata": {
        "id": "BNFaGKa6A16r"
      },
      "source": [
        "### Usando gspread para interactuar con las hojas de cálculo de Google\n",
        "\n",
        "Documentación: https://docs.gspread.org/en/v5.3.0/\n"
      ]
    },
    {
      "cell_type": "code",
      "execution_count": null,
      "metadata": {
        "id": "vlerF2Qmi4RU"
      },
      "outputs": [],
      "source": [
        "# Instalamos y hacemos un upgrade de gspread porque la funcion que necesitamos esta a partir de la version 3.6\n",
        "!pip install gspread --upgrade"
      ]
    },
    {
      "cell_type": "markdown",
      "metadata": {
        "id": "P4JEwDoqDbxP"
      },
      "source": [
        "Importamos la libreria gspread y chequeamos la version "
      ]
    },
    {
      "cell_type": "code",
      "execution_count": null,
      "metadata": {
        "colab": {
          "base_uri": "https://localhost:8080/"
        },
        "id": "w2rDkvdLDYS_",
        "outputId": "72fceb19-e610-43ca-dd60-7400dd72d337"
      },
      "outputs": [
        {
          "name": "stdout",
          "output_type": "stream",
          "text": [
            "Version de gspread:5.3.2\n"
          ]
        }
      ],
      "source": [
        "import gspread\n",
        "print(f'Version de gspread:{gspread.__version__}')"
      ]
    },
    {
      "cell_type": "markdown",
      "metadata": {
        "id": "aRIaqSkwQt_8"
      },
      "source": [
        "#### Interactuamos con Google Sheets.\n",
        "\n",
        "Creamos una nueva hoja de calculo con su debido título y la compartimos con la cuenta desde la cual querramos acceder."
      ]
    },
    {
      "cell_type": "markdown",
      "metadata": {
        "id": "5LhPtj0cCWRW"
      },
      "source": [
        "**Autenticación local**\n",
        "* Documentación: https://docs.gspread.org/en/latest/oauth2.html"
      ]
    },
    {
      "cell_type": "code",
      "execution_count": null,
      "metadata": {
        "id": "SYqJrKbfMacH"
      },
      "outputs": [],
      "source": [
        "# Paso 1: Accedemos a nuestra cuenta y creamos la hoja de calculo\n",
        "\n",
        "gc = gspread.service_account(filename='/content/credenciales_gsheets.json')\n",
        "\n",
        "nombre = 'humai2'\n",
        "hoja_de_calculo = gc.create(nombre)\n",
        "\n",
        "# Para hacer visible el archivo es necesario compartirlo\n",
        "tu_mail = 'mi_mail@mail.com'\n",
        "hoja_de_calculo.share(tu_mail, perm_type='user', role='writer')"
      ]
    },
    {
      "cell_type": "code",
      "execution_count": null,
      "metadata": {
        "id": "pExEMGiGM0nr"
      },
      "outputs": [],
      "source": [
        "# Paso 2: Compartir la hoja con el 'client_email' que viene en el json\n",
        "# Para eso simplemente abrimos nuestra hoja, vamos a 'Compartir' y ahi agregamos el mail que encontramos \n",
        "#en el json como si fuera un usuario mas"
      ]
    },
    {
      "cell_type": "code",
      "execution_count": null,
      "metadata": {
        "id": "s7gVr09NNOwA"
      },
      "outputs": [],
      "source": [
        "# Paso 3: Abrimos accedemos al documento \n",
        "# Abrimos el documento\n",
        "hoja_de_calculo = gc.open(\"humai2\")\n",
        "\n",
        "# Agarramos la primera de las hojas \n",
        "worksheet = hoja_de_calculo.sheet1\n",
        "\n",
        "# Actualizo la hoja\n",
        "worksheet.update([df.columns.values.tolist()] + df.values.tolist())"
      ]
    },
    {
      "cell_type": "code",
      "execution_count": null,
      "metadata": {
        "id": "UOsN8_YhQz7A"
      },
      "outputs": [],
      "source": [
        "# Paso 4: Obtenemos los valores desde nuestra hoja de calculo\n",
        "\n",
        "nuestra_hoja = worksheet.get_all_values()\n",
        "\n",
        "# Cargamos con Pandas\n",
        "df_aux = pd.DataFrame(nuestra_hoja)\n",
        "df_aux.columns = df_aux.iloc[0,:]\n",
        "df_aux = df_aux.iloc[1:,:]\n",
        "df_aux.head()"
      ]
    },
    {
      "cell_type": "code",
      "execution_count": null,
      "metadata": {
        "id": "36K-sEEILwYU"
      },
      "outputs": [],
      "source": [
        "\n",
        "# actualizamos el df\n",
        "df = coinmarketcap_scraper()\n",
        "df"
      ]
    },
    {
      "cell_type": "markdown",
      "metadata": {
        "id": "Uuq2jr7_gcuq"
      },
      "source": [
        "**Otorgar acceso desde Google Colab**\n",
        "\n",
        "* En caso de acceder desde Google Colab resulta más sencillo autenticarse dado que lo hace automaticamente con la cuenta linkeada.\n",
        "\n",
        "* Una vez que ya tenemos nuestro objeto ```gc``` podemos trabajar usando los mismos métodos que en el caso local."
      ]
    },
    {
      "cell_type": "code",
      "execution_count": null,
      "metadata": {
        "id": "QLgRvYUcgcuq"
      },
      "outputs": [],
      "source": [
        "# Autenticarse con Colab\n",
        "import gspread\n",
        "from google.auth import default\n",
        "creds, _ = default()\n",
        "gc = gspread.authorize(creds)"
      ]
    },
    {
      "cell_type": "markdown",
      "metadata": {
        "id": "DBYFfCl2N-40"
      },
      "source": [
        "## **Interacción con Google Data Studio**\n",
        "\n",
        "<img src='https://www.mdmarketingdigital.com/blog/wp-content/uploads/2019/06/Data-Studio-Stats-1200x700.png' width=500>\n",
        "\n",
        "\n",
        "\n",
        "[Google Data Studio](https://datastudio.google.com/) es una herramienta en línea para convertir datos en paneles e informes  personalizables"
      ]
    },
    {
      "cell_type": "markdown",
      "metadata": {
        "id": "pW5srOZKb5MK"
      },
      "source": [
        "## **Envio automatico de e-mails**\n",
        "\n",
        "En esta sección haremos un ejemplo de como enviar mails desde Python \n",
        "\n",
        "### **Protocolo SMTP**\n",
        "El protocolo para transferencia simple de correo (en inglés: Simple Mail Transfer Protocol o SMTP) es un protocolo de red utilizado para el intercambio de mensajes de correo electrónico entre computadoras u otros dispositivos (PDA, teléfonos móviles, impresoras, etcétera).\n",
        "\n",
        "### Usando Python\n",
        "\n",
        "Para poder usar Python desde gmail tendremos que habilitar el uso de \"aplicaciones poco seguras\". \n",
        "\n",
        "<img src='https://docs.rocketbot.co/wp-content/uploads/2020/01/c3.png' >\n",
        "<img src='https://docs.rocketbot.co/wp-content/uploads/2020/01/c4-768x244.png' >\n",
        "<center>\n",
        "Fuente: https://docs.rocketbot.co/?p=1567\n",
        "</center>\n",
        "\n",
        "* Si tienen problemas mirar aca: https://stackoverflow.com/questions/26852128/smtpauthenticationerror-when-sending-mail-using-gmail-and-python\n",
        "\n"
      ]
    },
    {
      "cell_type": "code",
      "execution_count": null,
      "metadata": {
        "id": "5rvOKtA1gcut"
      },
      "outputs": [],
      "source": [
        "import smtplib\n",
        "from email.message import EmailMessage\n",
        "\n",
        "msg = EmailMessage()\n",
        "\n",
        "# Contenido\n",
        "msg['From']=\"curso_de_automatizacion_de_humai@gmail.com\"\n",
        "msg['To']=\"mi_mail@mail.com\"\n",
        "msg['Subject']= \"Probando mandar mails!\"\n",
        "cuerpo_del_mail = 'Este es un mail enviado con Python en la clase! =D'\n",
        "msg.set_content(cuerpo_del_mail)\n",
        "\n",
        "# No se queden en los detalles aquí, pero pueden leer más sobre el protocolo SMTP acá: https://es.wikipedia.org/wiki/Protocolo_para_transferencia_simple_de_correo \n",
        "server = smtplib.SMTP('smtp.gmail.com', 587)\n",
        "server.starttls()\n",
        "\n",
        "# Usuario y contraseña\n",
        "usuario = 'mi_usuario'\n",
        "\n",
        "server.login(usuario, password)\n",
        "\n",
        "# enviar\n",
        "server.send_message(msg)\n",
        "server.quit();"
      ]
    },
    {
      "cell_type": "markdown",
      "metadata": {
        "id": "7aVTvlIU3Xxu"
      },
      "source": [
        "### Enviar más de un mail\n",
        "\n",
        "Podría existir el caso de uso donde querramos enviar más de un mail. Por ejemplo a todes nuestres alumnes con la nota de su parcial."
      ]
    },
    {
      "cell_type": "code",
      "execution_count": null,
      "metadata": {
        "id": "eYUhxoI_qwio"
      },
      "outputs": [],
      "source": [
        "import smtplib\n",
        "from email.message import EmailMessage\n",
        "import time\n",
        "\n",
        "notas  = [10, 8 , 7]\n",
        "alumnes = ['Lupe', 'Juan', 'Sofia']\n",
        "mails = ['Juan@mail.com', 'Sofia@mail.com', 'Lupe@mail.com']\n",
        "\n",
        "# Usuario y contraseña\n",
        "usuario = 'mi_usuario'\n",
        "password = \"sdfsdfsdf\"\n",
        "\n",
        "\n",
        "with smtplib.SMTP('smtp.gmail.com', 587) as server:\n",
        "  for i in range(len(notas)):\n",
        "    # Contenido\n",
        "    msg = EmailMessage()\n",
        "\n",
        "    msg['From']=\"curso_de_automatizacion_de_humai@gmail.com\"\n",
        "    msg['To']=\"tu_mail@mail.com\" # Obviamente habria que ir variando los mails, aca no lo voya hacer pero seria poner mails[i]\n",
        "    msg['Subject']= \"Probando mandar mails!\"\n",
        "    cuerpo_del_mail = f'Hola {alumnes[i]}, tu nota en el parcial fue de {notas[i]}.\\n\\nSaludos!'\n",
        "    msg.set_content(cuerpo_del_mail)\n",
        "    server = smtplib.SMTP('smtp.gmail.com', 587)\n",
        "    server.starttls()\n",
        "    server.login(usuario, password)\n",
        "    # server.starttls()\n",
        "\n",
        "    # enviar\n",
        "    server.send_message(msg)\n",
        "    time.sleep(3)\n",
        "    print(f'mail enviado a {alumnes[i]}')"
      ]
    },
    {
      "cell_type": "markdown",
      "metadata": {
        "id": "G5Gd9hvQ30mz"
      },
      "source": [
        "### Enviar archivos adjuntos\n",
        "\n",
        "Podemos agregar archivos adjuntos como por ejemplo imágenes o PDFs."
      ]
    },
    {
      "cell_type": "code",
      "execution_count": null,
      "metadata": {
        "id": "EcChj5Qyx49l"
      },
      "outputs": [],
      "source": [
        "# Enviar archivos adjuntos\n",
        "\n",
        "import smtplib\n",
        "# El módulo imghdr determina el tipo de imagen contenida en un archivo.\n",
        "import imghdr\n",
        "from email.message import EmailMessage\n",
        "\n",
        "msg = EmailMessage()\n",
        "\n",
        "# Contenido\n",
        "msg['From']=\"curso_de_automatizacion_de_humai@gmail.com\"\n",
        "msg['To']=\"mi_mail@gmail.com\"\n",
        "msg['Subject']= \"Probando mandar mails!\"\n",
        "cuerpo_del_mail = 'Te estoy enviando una imagen con Python! =D'\n",
        "msg.set_content(cuerpo_del_mail)\n",
        "\n",
        "path_imagen = '/content/humai_logo.png' \n",
        "\n",
        "with open(path_imagen, 'rb') as f:\n",
        "    image_data = f.read()\n",
        "    # Para saber el tipo de archivo\n",
        "    image_type = imghdr.what(f.name)\n",
        "    image_name = f.name\n",
        "\n",
        "msg.add_attachment(image_data, maintype='image', subtype=image_type, filename=image_name)\n",
        "\n",
        "# No se queden en los detalles aquí, pero pueden leer más sobre el protocolo SMTP acá: https://es.wikipedia.org/wiki/Protocolo_para_transferencia_simple_de_correo \n",
        "server = smtplib.SMTP('smtp.gmail.com', 587)\n",
        "server.starttls()\n",
        "\n",
        "# Usuario y contraseña\n",
        "usuario = 'mi_usuario'\n",
        "\n",
        "\n",
        "server.login(usuario, password)\n",
        "\n",
        "# enviar\n",
        "server.send_message(msg)\n",
        "print('Mail enviado')\n",
        "server.quit();\n"
      ]
    },
    {
      "cell_type": "markdown",
      "metadata": {
        "id": "0NA7MIRZHZn8"
      },
      "source": [
        "## Scheduling con CRON\n",
        "\n",
        "En el sistema operativo Unix, cron es un administrador regular de procesos en segundo plano (demonio) que ejecuta procesos o guiones a intervalos regulares (por ejemplo, cada minuto, día, semana o mes). Los procesos que deben ejecutarse y la hora a la que deben hacerlo se especifican en el archivo crontab. \n",
        "\n",
        "<img src=\"https://i.ibb.co/ZWCbc2m/crontab.png\" alt=\"crontab\" border=\"0\">\n",
        "\n",
        "\n",
        "Cron se puede definir como el equivalente a Tareas Programadas de Windows.\n",
        "\n",
        "<img src='https://www.solvetic.com/uploads/monthly_01_2017/tutorials-9832-0-90051600-1484655732.png'> <br>\n",
        "Fuente: https://www.solvetic.com/tutoriales/article/3441-como-abrir-y-configurar-programador-tareas-windows-10/\n",
        "\n",
        "\n",
        "\n"
      ]
    },
    {
      "cell_type": "markdown",
      "metadata": {
        "id": "E-20gWgcHxZ5"
      },
      "source": [
        "### Comandos básicos de Cron\n",
        "\n",
        "En la terminal: <br>\n",
        "**`crontab -l`** -> Permite ver la lista de las tareas programadas <br>\n",
        "**`crontab -e`** -> Permite ver editar las tareas programadas\n",
        "\n",
        "<font color='red'><h3>ATENCION! </h3></font>\n",
        "\n",
        "**`crontab -r`** -> Permite borrar las tareas programadas  <br>\n",
        "Es importante que lo uses cuando quieras que tu tarea deje de ser ejecutada, sino va a quedar funcionando indefinidamente "
      ]
    },
    {
      "cell_type": "code",
      "execution_count": null,
      "metadata": {
        "id": "9sIZzo3ZIIxY"
      },
      "outputs": [],
      "source": [
        "# ┌───────────── Minutos (0 - 59)\n",
        "# │ ┌───────────── Hora (0 - 23)\n",
        "# │ │ ┌───────────── Dia del mes (1 - 31)\n",
        "# │ │ │ ┌───────────── Mes (1 - 12) o jan,feb,mar,apr,may,jun,jul... (meses en inglés)\n",
        "# │ │ │ │ ┌─────────────  día de la semana (0-6) (domingo=0 o 7) o sun,mon,tue,wed,thu,fri,sat (días en inglés) \n",
        "# │ │ │ │ │                                       \n",
        "# │ │ │ │ │\n",
        "# │ │ │ │ │\n",
        "# * * * * *  comando_a_ejecutar"
      ]
    },
    {
      "cell_type": "markdown",
      "metadata": {
        "id": "GFTtqGxxxxgC"
      },
      "source": [
        "Algunos ejemplos:\n",
        "\n",
        "Todos los dias a las 12 y media del mediodia corre esto\n",
        "\n",
        "`30 12 * * * python /ruta/a/mi/archivo/script.py`\n",
        "\n",
        "El 10 de cada mes corre esto a las 3 de la tarde\n",
        "\n",
        "` * 3 10 * * python /ruta/a/mi/archivo/script.py`\n",
        "\n",
        "Consideraciones\n",
        "* Dependiendo del intérprete de Python que tengan instalado pueden tener que poner algo distinto a la palabra python. Ejemplo:\n",
        "` * * * * * python3 /ruta/a/mi/archivo/script.py`\n",
        "\n",
        "* Otra forma es que cron se posicione en la ruta del archivo y luego solo lo corra. Ejemplo:\n",
        "`* * * * * cd /ruta/a/mi/archivo && python script.py`\n"
      ]
    },
    {
      "cell_type": "code",
      "execution_count": null,
      "metadata": {
        "id": "VLbKxKvOH3Ru"
      },
      "outputs": [],
      "source": [
        "def escribir_archivo():\n",
        "\twith open('prueba.txt', 'a+') as f:\n",
        "\t\tf.write('Esribiendo archivo desde Cron\\n')\n",
        "\t\t\n",
        "if __name__ == '__main__':\n",
        "\tescribir_archivo()"
      ]
    },
    {
      "cell_type": "markdown",
      "metadata": {
        "id": "O7mhNV3-TAXy"
      },
      "source": [
        "### Recursos\n",
        "\n",
        "* Google Data Studio\n",
        "  * https://datastudio.google.com/gallery les recomendamos ver la galeria para inspirarse y ver todo lo que se puede hacer con esta herramienta\n",
        "\n",
        "\n",
        "* cron: \n",
        "  * [Video de Corey Schafer](https://www.youtube.com/watch?v=QZJ1drMQz1A&t=12s&ab_channel=CoreySchafer) , aunque esta en ingles se los super recomiendo\n",
        "  * https://crontab.guru/ Ayuda a escribir los comandos de cron\n",
        "\n"
      ]
    }
  ],
  "metadata": {
    "colab": {
      "collapsed_sections": [],
      "name": "clase_automatizacion_2_gsheets_cron_mails.ipynb",
      "provenance": []
    },
    "interpreter": {
      "hash": "9458a9a65781ffd0b5785bc24d0483247d085e6235fe3761510e837e1e2f897e"
    },
    "kernelspec": {
      "display_name": "Python 3",
      "language": "python",
      "name": "python3"
    },
    "language_info": {
      "codemirror_mode": {
        "name": "ipython",
        "version": 3
      },
      "file_extension": ".py",
      "mimetype": "text/x-python",
      "name": "python",
      "nbconvert_exporter": "python",
      "pygments_lexer": "ipython3",
      "version": "3.8.8"
    }
  },
  "nbformat": 4,
  "nbformat_minor": 0
}
